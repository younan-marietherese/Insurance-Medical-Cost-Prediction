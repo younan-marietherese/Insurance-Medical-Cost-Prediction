{
  "nbformat": 4,
  "nbformat_minor": 0,
  "metadata": {
    "colab": {
      "provenance": []
    },
    "kernelspec": {
      "name": "python3",
      "display_name": "Python 3"
    },
    "language_info": {
      "name": "python"
    }
  },
  "cells": [
    {
      "cell_type": "markdown",
      "source": [
        "# Insurance Medical Cost Prediction\n",
        "\n",
        "**Objective:**\n",
        "\n",
        "In this challenge, we will explore a U.S. health insurance\n",
        "dataset, apply the data science lifecycle, and build a machine\n",
        "learning model that predicts individual medical charges\n",
        "based on demographic and health-related features\n",
        "\n",
        "*Part 1: Predicting Medical Charges*\n",
        "\n",
        "1- Build a model that predicts the medical\n",
        "charges for each individual based on the other\n",
        "available features.\n",
        "\n",
        "- First, implement the model using Gradient\n",
        "Descent from scratch.\n",
        "\n",
        "2- Then, build a second version using the\n",
        "scikit-learn’s model to compare.\n",
        "\n",
        "- Reflect on how your implementation compares\n",
        "in terms of performance and complexity.\n",
        "\n",
        "*Part 2: Predicting Smoker Status*\n",
        "\n",
        "Build a model that predicts whether an\n",
        "individual is a smoker or not based on the other\n",
        "features.\n",
        "\n",
        "- Start by implementing the model using\n",
        "Gradient Descent from scratch.\n",
        "\n",
        "- Then, compare it to a version built with\n",
        "scikit-learn’s  library.\n",
        "\n",
        "- Analyze how the model performs and what\n",
        "patterns it may be capturing.\n",
        "\n",
        "**Notes on Gradient Descent for both models**\n",
        "\n",
        "1- Start with a basic implementation using loops to\n",
        "compute the gradient and update the weights.\n",
        "\n",
        "2- Once that works, re-implement your solution using a\n",
        "fully vectorized approach using matrix operations\n",
        "instead of explicit loops.\n",
        "\n",
        "3- Vectorization can be more challenging at first, but it\n",
        "significantly improves performance and mirrors how\n",
        "real-world libraries work.\n"
      ],
      "metadata": {
        "id": "StUyYnOoshWP"
      }
    },
    {
      "cell_type": "markdown",
      "source": [
        "\n",
        "## Dataset Description\n",
        "\n",
        "The dataset variables include:\n",
        "\n",
        "- age: Age of the beneficiary\n",
        "\n",
        "- sex: Gender (female/male)\n",
        "\n",
        "- bmi: Body Mass Index\n",
        "\n",
        "- children: Number of dependents\n",
        "\n",
        "- smoker: Whether the individual smokes\n",
        "\n",
        "- region: Residential region\n",
        "\n",
        "- charges: Medical cost (Target variable)"
      ],
      "metadata": {
        "id": "FvhA91jXsivq"
      }
    },
    {
      "cell_type": "markdown",
      "source": [
        "## 1. Data Loading"
      ],
      "metadata": {
        "id": "YVNSBskKsmga"
      }
    },
    {
      "cell_type": "markdown",
      "source": [
        "#### Import necessary python modules\n",
        "\n",
        "We will need the following libraries:\n",
        " - Numpy — for scientific computing (e.g., linear algebra (vectors & matrices)).\n",
        " - Pandas — providing high-performance, easy-to-use data reading, manipulation, and analysis.\n",
        " - Matplotlib — plotting & visualization.\n",
        " - scikit-learn — a tool for data mining and machine learning models."
      ],
      "metadata": {
        "id": "HAloR3eBspay"
      }
    },
    {
      "cell_type": "code",
      "execution_count": null,
      "metadata": {
        "id": "Qupbuj-Rseit"
      },
      "outputs": [],
      "source": [
        "import numpy as np\n",
        "import pandas as pd\n",
        "import matplotlib.pyplot as plt\n",
        "\n",
        "from sklearn.model_selection import train_test_split\n",
        "from sklearn.linear_model import LinearRegression"
      ]
    },
    {
      "cell_type": "markdown",
      "source": [
        "#### Load the data\n",
        "\n",
        "You can find the dataset [here](https://github.com/zaka-ai/medical-cost-prediction).\n",
        "\n",
        "This is a Github repo where you can store multiple types of files and load them into your virtual disk by cloning the git repo with `!git clone [link to repo]`. From there we can change the working directory to point to the path of the folder where the dataset we want to work on resides."
      ],
      "metadata": {
        "id": "ckhjOIGXsx7d"
      }
    },
    {
      "cell_type": "code",
      "source": [
        "# clone git repo\n",
        "!git clone https://github.com/zaka-ai/medical-cost-prediction\n",
        "\n",
        "# change working directory\n",
        "%cd medical-cost-prediction/data/"
      ],
      "metadata": {
        "colab": {
          "base_uri": "https://localhost:8080/"
        },
        "id": "VUDrtG2Jsv6u",
        "outputId": "16e6680d-cf63-4d61-e0aa-f1d6c3741e7f"
      },
      "execution_count": null,
      "outputs": [
        {
          "output_type": "stream",
          "name": "stdout",
          "text": [
            "Cloning into 'medical-cost-prediction'...\n",
            "remote: Enumerating objects: 21, done.\u001b[K\n",
            "remote: Counting objects: 100% (21/21), done.\u001b[K\n",
            "remote: Compressing objects: 100% (16/16), done.\u001b[K\n",
            "remote: Total 21 (delta 3), reused 14 (delta 2), pack-reused 0 (from 0)\u001b[K\n",
            "Receiving objects: 100% (21/21), 23.42 KiB | 11.71 MiB/s, done.\n",
            "Resolving deltas: 100% (3/3), done.\n",
            "/content/medical-cost-prediction/data\n"
          ]
        }
      ]
    },
    {
      "cell_type": "markdown",
      "source": [
        "#### Read & visualize data\n",
        "Data now is stored on disk in a csv (Comma Separated Values) file. To load the data to our code, we use **pandas** module, more specifically, the **read_csv** function."
      ],
      "metadata": {
        "id": "OeM0nStts5TW"
      }
    },
    {
      "cell_type": "code",
      "source": [
        "#read CSV file in Pandas\n",
        "data = pd.read_csv('insurance.csv')\n",
        "\n",
        "#display first 10 rows\n",
        "data.head(10)"
      ],
      "metadata": {
        "colab": {
          "base_uri": "https://localhost:8080/",
          "height": 363
        },
        "id": "FC_AL-H3s8jP",
        "outputId": "f702fe1f-a6e8-400d-e9de-3c175d3cb424"
      },
      "execution_count": null,
      "outputs": [
        {
          "output_type": "execute_result",
          "data": {
            "text/plain": [
              "   age     sex     bmi  children smoker     region      charges\n",
              "0   19  female  27.900         0    yes  southwest  16884.92400\n",
              "1   18    male  33.770         1     no  southeast   1725.55230\n",
              "2   28    male  33.000         3     no  southeast   4449.46200\n",
              "3   33    male  22.705         0     no  northwest  21984.47061\n",
              "4   32    male  28.880         0     no  northwest   3866.85520\n",
              "5   31  female  25.740         0     no  southeast   3756.62160\n",
              "6   46  female  33.440         1     no  southeast   8240.58960\n",
              "7   37  female  27.740         3     no  northwest   7281.50560\n",
              "8   37    male  29.830         2     no  northeast   6406.41070\n",
              "9   60  female  25.840         0     no  northwest  28923.13692"
            ],
            "text/html": [
              "\n",
              "  <div id=\"df-57b65581-cd91-48f8-9cb7-96b07e6d6147\" class=\"colab-df-container\">\n",
              "    <div>\n",
              "<style scoped>\n",
              "    .dataframe tbody tr th:only-of-type {\n",
              "        vertical-align: middle;\n",
              "    }\n",
              "\n",
              "    .dataframe tbody tr th {\n",
              "        vertical-align: top;\n",
              "    }\n",
              "\n",
              "    .dataframe thead th {\n",
              "        text-align: right;\n",
              "    }\n",
              "</style>\n",
              "<table border=\"1\" class=\"dataframe\">\n",
              "  <thead>\n",
              "    <tr style=\"text-align: right;\">\n",
              "      <th></th>\n",
              "      <th>age</th>\n",
              "      <th>sex</th>\n",
              "      <th>bmi</th>\n",
              "      <th>children</th>\n",
              "      <th>smoker</th>\n",
              "      <th>region</th>\n",
              "      <th>charges</th>\n",
              "    </tr>\n",
              "  </thead>\n",
              "  <tbody>\n",
              "    <tr>\n",
              "      <th>0</th>\n",
              "      <td>19</td>\n",
              "      <td>female</td>\n",
              "      <td>27.900</td>\n",
              "      <td>0</td>\n",
              "      <td>yes</td>\n",
              "      <td>southwest</td>\n",
              "      <td>16884.92400</td>\n",
              "    </tr>\n",
              "    <tr>\n",
              "      <th>1</th>\n",
              "      <td>18</td>\n",
              "      <td>male</td>\n",
              "      <td>33.770</td>\n",
              "      <td>1</td>\n",
              "      <td>no</td>\n",
              "      <td>southeast</td>\n",
              "      <td>1725.55230</td>\n",
              "    </tr>\n",
              "    <tr>\n",
              "      <th>2</th>\n",
              "      <td>28</td>\n",
              "      <td>male</td>\n",
              "      <td>33.000</td>\n",
              "      <td>3</td>\n",
              "      <td>no</td>\n",
              "      <td>southeast</td>\n",
              "      <td>4449.46200</td>\n",
              "    </tr>\n",
              "    <tr>\n",
              "      <th>3</th>\n",
              "      <td>33</td>\n",
              "      <td>male</td>\n",
              "      <td>22.705</td>\n",
              "      <td>0</td>\n",
              "      <td>no</td>\n",
              "      <td>northwest</td>\n",
              "      <td>21984.47061</td>\n",
              "    </tr>\n",
              "    <tr>\n",
              "      <th>4</th>\n",
              "      <td>32</td>\n",
              "      <td>male</td>\n",
              "      <td>28.880</td>\n",
              "      <td>0</td>\n",
              "      <td>no</td>\n",
              "      <td>northwest</td>\n",
              "      <td>3866.85520</td>\n",
              "    </tr>\n",
              "    <tr>\n",
              "      <th>5</th>\n",
              "      <td>31</td>\n",
              "      <td>female</td>\n",
              "      <td>25.740</td>\n",
              "      <td>0</td>\n",
              "      <td>no</td>\n",
              "      <td>southeast</td>\n",
              "      <td>3756.62160</td>\n",
              "    </tr>\n",
              "    <tr>\n",
              "      <th>6</th>\n",
              "      <td>46</td>\n",
              "      <td>female</td>\n",
              "      <td>33.440</td>\n",
              "      <td>1</td>\n",
              "      <td>no</td>\n",
              "      <td>southeast</td>\n",
              "      <td>8240.58960</td>\n",
              "    </tr>\n",
              "    <tr>\n",
              "      <th>7</th>\n",
              "      <td>37</td>\n",
              "      <td>female</td>\n",
              "      <td>27.740</td>\n",
              "      <td>3</td>\n",
              "      <td>no</td>\n",
              "      <td>northwest</td>\n",
              "      <td>7281.50560</td>\n",
              "    </tr>\n",
              "    <tr>\n",
              "      <th>8</th>\n",
              "      <td>37</td>\n",
              "      <td>male</td>\n",
              "      <td>29.830</td>\n",
              "      <td>2</td>\n",
              "      <td>no</td>\n",
              "      <td>northeast</td>\n",
              "      <td>6406.41070</td>\n",
              "    </tr>\n",
              "    <tr>\n",
              "      <th>9</th>\n",
              "      <td>60</td>\n",
              "      <td>female</td>\n",
              "      <td>25.840</td>\n",
              "      <td>0</td>\n",
              "      <td>no</td>\n",
              "      <td>northwest</td>\n",
              "      <td>28923.13692</td>\n",
              "    </tr>\n",
              "  </tbody>\n",
              "</table>\n",
              "</div>\n",
              "    <div class=\"colab-df-buttons\">\n",
              "\n",
              "  <div class=\"colab-df-container\">\n",
              "    <button class=\"colab-df-convert\" onclick=\"convertToInteractive('df-57b65581-cd91-48f8-9cb7-96b07e6d6147')\"\n",
              "            title=\"Convert this dataframe to an interactive table.\"\n",
              "            style=\"display:none;\">\n",
              "\n",
              "  <svg xmlns=\"http://www.w3.org/2000/svg\" height=\"24px\" viewBox=\"0 -960 960 960\">\n",
              "    <path d=\"M120-120v-720h720v720H120Zm60-500h600v-160H180v160Zm220 220h160v-160H400v160Zm0 220h160v-160H400v160ZM180-400h160v-160H180v160Zm440 0h160v-160H620v160ZM180-180h160v-160H180v160Zm440 0h160v-160H620v160Z\"/>\n",
              "  </svg>\n",
              "    </button>\n",
              "\n",
              "  <style>\n",
              "    .colab-df-container {\n",
              "      display:flex;\n",
              "      gap: 12px;\n",
              "    }\n",
              "\n",
              "    .colab-df-convert {\n",
              "      background-color: #E8F0FE;\n",
              "      border: none;\n",
              "      border-radius: 50%;\n",
              "      cursor: pointer;\n",
              "      display: none;\n",
              "      fill: #1967D2;\n",
              "      height: 32px;\n",
              "      padding: 0 0 0 0;\n",
              "      width: 32px;\n",
              "    }\n",
              "\n",
              "    .colab-df-convert:hover {\n",
              "      background-color: #E2EBFA;\n",
              "      box-shadow: 0px 1px 2px rgba(60, 64, 67, 0.3), 0px 1px 3px 1px rgba(60, 64, 67, 0.15);\n",
              "      fill: #174EA6;\n",
              "    }\n",
              "\n",
              "    .colab-df-buttons div {\n",
              "      margin-bottom: 4px;\n",
              "    }\n",
              "\n",
              "    [theme=dark] .colab-df-convert {\n",
              "      background-color: #3B4455;\n",
              "      fill: #D2E3FC;\n",
              "    }\n",
              "\n",
              "    [theme=dark] .colab-df-convert:hover {\n",
              "      background-color: #434B5C;\n",
              "      box-shadow: 0px 1px 3px 1px rgba(0, 0, 0, 0.15);\n",
              "      filter: drop-shadow(0px 1px 2px rgba(0, 0, 0, 0.3));\n",
              "      fill: #FFFFFF;\n",
              "    }\n",
              "  </style>\n",
              "\n",
              "    <script>\n",
              "      const buttonEl =\n",
              "        document.querySelector('#df-57b65581-cd91-48f8-9cb7-96b07e6d6147 button.colab-df-convert');\n",
              "      buttonEl.style.display =\n",
              "        google.colab.kernel.accessAllowed ? 'block' : 'none';\n",
              "\n",
              "      async function convertToInteractive(key) {\n",
              "        const element = document.querySelector('#df-57b65581-cd91-48f8-9cb7-96b07e6d6147');\n",
              "        const dataTable =\n",
              "          await google.colab.kernel.invokeFunction('convertToInteractive',\n",
              "                                                    [key], {});\n",
              "        if (!dataTable) return;\n",
              "\n",
              "        const docLinkHtml = 'Like what you see? Visit the ' +\n",
              "          '<a target=\"_blank\" href=https://colab.research.google.com/notebooks/data_table.ipynb>data table notebook</a>'\n",
              "          + ' to learn more about interactive tables.';\n",
              "        element.innerHTML = '';\n",
              "        dataTable['output_type'] = 'display_data';\n",
              "        await google.colab.output.renderOutput(dataTable, element);\n",
              "        const docLink = document.createElement('div');\n",
              "        docLink.innerHTML = docLinkHtml;\n",
              "        element.appendChild(docLink);\n",
              "      }\n",
              "    </script>\n",
              "  </div>\n",
              "\n",
              "\n",
              "    <div id=\"df-4d9f3326-fd1b-4772-990e-12adfd00eca8\">\n",
              "      <button class=\"colab-df-quickchart\" onclick=\"quickchart('df-4d9f3326-fd1b-4772-990e-12adfd00eca8')\"\n",
              "                title=\"Suggest charts\"\n",
              "                style=\"display:none;\">\n",
              "\n",
              "<svg xmlns=\"http://www.w3.org/2000/svg\" height=\"24px\"viewBox=\"0 0 24 24\"\n",
              "     width=\"24px\">\n",
              "    <g>\n",
              "        <path d=\"M19 3H5c-1.1 0-2 .9-2 2v14c0 1.1.9 2 2 2h14c1.1 0 2-.9 2-2V5c0-1.1-.9-2-2-2zM9 17H7v-7h2v7zm4 0h-2V7h2v10zm4 0h-2v-4h2v4z\"/>\n",
              "    </g>\n",
              "</svg>\n",
              "      </button>\n",
              "\n",
              "<style>\n",
              "  .colab-df-quickchart {\n",
              "      --bg-color: #E8F0FE;\n",
              "      --fill-color: #1967D2;\n",
              "      --hover-bg-color: #E2EBFA;\n",
              "      --hover-fill-color: #174EA6;\n",
              "      --disabled-fill-color: #AAA;\n",
              "      --disabled-bg-color: #DDD;\n",
              "  }\n",
              "\n",
              "  [theme=dark] .colab-df-quickchart {\n",
              "      --bg-color: #3B4455;\n",
              "      --fill-color: #D2E3FC;\n",
              "      --hover-bg-color: #434B5C;\n",
              "      --hover-fill-color: #FFFFFF;\n",
              "      --disabled-bg-color: #3B4455;\n",
              "      --disabled-fill-color: #666;\n",
              "  }\n",
              "\n",
              "  .colab-df-quickchart {\n",
              "    background-color: var(--bg-color);\n",
              "    border: none;\n",
              "    border-radius: 50%;\n",
              "    cursor: pointer;\n",
              "    display: none;\n",
              "    fill: var(--fill-color);\n",
              "    height: 32px;\n",
              "    padding: 0;\n",
              "    width: 32px;\n",
              "  }\n",
              "\n",
              "  .colab-df-quickchart:hover {\n",
              "    background-color: var(--hover-bg-color);\n",
              "    box-shadow: 0 1px 2px rgba(60, 64, 67, 0.3), 0 1px 3px 1px rgba(60, 64, 67, 0.15);\n",
              "    fill: var(--button-hover-fill-color);\n",
              "  }\n",
              "\n",
              "  .colab-df-quickchart-complete:disabled,\n",
              "  .colab-df-quickchart-complete:disabled:hover {\n",
              "    background-color: var(--disabled-bg-color);\n",
              "    fill: var(--disabled-fill-color);\n",
              "    box-shadow: none;\n",
              "  }\n",
              "\n",
              "  .colab-df-spinner {\n",
              "    border: 2px solid var(--fill-color);\n",
              "    border-color: transparent;\n",
              "    border-bottom-color: var(--fill-color);\n",
              "    animation:\n",
              "      spin 1s steps(1) infinite;\n",
              "  }\n",
              "\n",
              "  @keyframes spin {\n",
              "    0% {\n",
              "      border-color: transparent;\n",
              "      border-bottom-color: var(--fill-color);\n",
              "      border-left-color: var(--fill-color);\n",
              "    }\n",
              "    20% {\n",
              "      border-color: transparent;\n",
              "      border-left-color: var(--fill-color);\n",
              "      border-top-color: var(--fill-color);\n",
              "    }\n",
              "    30% {\n",
              "      border-color: transparent;\n",
              "      border-left-color: var(--fill-color);\n",
              "      border-top-color: var(--fill-color);\n",
              "      border-right-color: var(--fill-color);\n",
              "    }\n",
              "    40% {\n",
              "      border-color: transparent;\n",
              "      border-right-color: var(--fill-color);\n",
              "      border-top-color: var(--fill-color);\n",
              "    }\n",
              "    60% {\n",
              "      border-color: transparent;\n",
              "      border-right-color: var(--fill-color);\n",
              "    }\n",
              "    80% {\n",
              "      border-color: transparent;\n",
              "      border-right-color: var(--fill-color);\n",
              "      border-bottom-color: var(--fill-color);\n",
              "    }\n",
              "    90% {\n",
              "      border-color: transparent;\n",
              "      border-bottom-color: var(--fill-color);\n",
              "    }\n",
              "  }\n",
              "</style>\n",
              "\n",
              "      <script>\n",
              "        async function quickchart(key) {\n",
              "          const quickchartButtonEl =\n",
              "            document.querySelector('#' + key + ' button');\n",
              "          quickchartButtonEl.disabled = true;  // To prevent multiple clicks.\n",
              "          quickchartButtonEl.classList.add('colab-df-spinner');\n",
              "          try {\n",
              "            const charts = await google.colab.kernel.invokeFunction(\n",
              "                'suggestCharts', [key], {});\n",
              "          } catch (error) {\n",
              "            console.error('Error during call to suggestCharts:', error);\n",
              "          }\n",
              "          quickchartButtonEl.classList.remove('colab-df-spinner');\n",
              "          quickchartButtonEl.classList.add('colab-df-quickchart-complete');\n",
              "        }\n",
              "        (() => {\n",
              "          let quickchartButtonEl =\n",
              "            document.querySelector('#df-4d9f3326-fd1b-4772-990e-12adfd00eca8 button');\n",
              "          quickchartButtonEl.style.display =\n",
              "            google.colab.kernel.accessAllowed ? 'block' : 'none';\n",
              "        })();\n",
              "      </script>\n",
              "    </div>\n",
              "\n",
              "    </div>\n",
              "  </div>\n"
            ],
            "application/vnd.google.colaboratory.intrinsic+json": {
              "type": "dataframe",
              "variable_name": "data",
              "summary": "{\n  \"name\": \"data\",\n  \"rows\": 1338,\n  \"fields\": [\n    {\n      \"column\": \"age\",\n      \"properties\": {\n        \"dtype\": \"number\",\n        \"std\": 14,\n        \"min\": 18,\n        \"max\": 64,\n        \"num_unique_values\": 47,\n        \"samples\": [\n          21,\n          45,\n          36\n        ],\n        \"semantic_type\": \"\",\n        \"description\": \"\"\n      }\n    },\n    {\n      \"column\": \"sex\",\n      \"properties\": {\n        \"dtype\": \"category\",\n        \"num_unique_values\": 2,\n        \"samples\": [\n          \"male\",\n          \"female\"\n        ],\n        \"semantic_type\": \"\",\n        \"description\": \"\"\n      }\n    },\n    {\n      \"column\": \"bmi\",\n      \"properties\": {\n        \"dtype\": \"number\",\n        \"std\": 6.1010383695987755,\n        \"min\": 15.96,\n        \"max\": 53.13,\n        \"num_unique_values\": 548,\n        \"samples\": [\n          23.18,\n          26.885\n        ],\n        \"semantic_type\": \"\",\n        \"description\": \"\"\n      }\n    },\n    {\n      \"column\": \"children\",\n      \"properties\": {\n        \"dtype\": \"number\",\n        \"std\": 1,\n        \"min\": 0,\n        \"max\": 5,\n        \"num_unique_values\": 6,\n        \"samples\": [\n          0,\n          1\n        ],\n        \"semantic_type\": \"\",\n        \"description\": \"\"\n      }\n    },\n    {\n      \"column\": \"smoker\",\n      \"properties\": {\n        \"dtype\": \"category\",\n        \"num_unique_values\": 2,\n        \"samples\": [\n          \"no\",\n          \"yes\"\n        ],\n        \"semantic_type\": \"\",\n        \"description\": \"\"\n      }\n    },\n    {\n      \"column\": \"region\",\n      \"properties\": {\n        \"dtype\": \"category\",\n        \"num_unique_values\": 4,\n        \"samples\": [\n          \"southeast\",\n          \"northeast\"\n        ],\n        \"semantic_type\": \"\",\n        \"description\": \"\"\n      }\n    },\n    {\n      \"column\": \"charges\",\n      \"properties\": {\n        \"dtype\": \"number\",\n        \"std\": 12110.011236693994,\n        \"min\": 1121.8739,\n        \"max\": 63770.42801,\n        \"num_unique_values\": 1337,\n        \"samples\": [\n          8688.85885,\n          5708.867\n        ],\n        \"semantic_type\": \"\",\n        \"description\": \"\"\n      }\n    }\n  ]\n}"
            }
          },
          "metadata": {},
          "execution_count": 3
        }
      ]
    },
    {
      "cell_type": "markdown",
      "source": [
        "## 2. Exploratory Data Analysis\n",
        "\n",
        "Let's dig deeper & understand our data"
      ],
      "metadata": {
        "id": "t31sEcy5s_OE"
      }
    },
    {
      "cell_type": "code",
      "source": [
        "#get the number of rows and columns\n",
        "rows = data.shape[0]\n",
        "columns = data.shape[1]\n",
        "\n",
        "print('There are {} rows and {} columns.'.format(rows,columns))"
      ],
      "metadata": {
        "colab": {
          "base_uri": "https://localhost:8080/"
        },
        "id": "7jiOoLV9tBts",
        "outputId": "eb0ebcaf-fe60-410b-c716-b9da9326045b"
      },
      "execution_count": null,
      "outputs": [
        {
          "output_type": "stream",
          "name": "stdout",
          "text": [
            "There are 1338 rows and 7 columns.\n"
          ]
        }
      ]
    },
    {
      "cell_type": "markdown",
      "source": [
        "Using the function **info()**, we can check:\n",
        " - data types (int, float, or object (e.g., string))\n",
        " - missing values\n",
        " - memory usage\n",
        " - number of rows and columns"
      ],
      "metadata": {
        "id": "ttJAhzd0tEJn"
      }
    },
    {
      "cell_type": "code",
      "source": [
        "data.info()"
      ],
      "metadata": {
        "colab": {
          "base_uri": "https://localhost:8080/"
        },
        "id": "a38RXCBDtEhe",
        "outputId": "4438013f-2e0d-43fa-87c1-f04b41aff96a"
      },
      "execution_count": null,
      "outputs": [
        {
          "output_type": "stream",
          "name": "stdout",
          "text": [
            "<class 'pandas.core.frame.DataFrame'>\n",
            "RangeIndex: 1338 entries, 0 to 1337\n",
            "Data columns (total 7 columns):\n",
            " #   Column    Non-Null Count  Dtype  \n",
            "---  ------    --------------  -----  \n",
            " 0   age       1338 non-null   int64  \n",
            " 1   sex       1338 non-null   object \n",
            " 2   bmi       1335 non-null   float64\n",
            " 3   children  1338 non-null   int64  \n",
            " 4   smoker    1338 non-null   object \n",
            " 5   region    1338 non-null   object \n",
            " 6   charges   1338 non-null   float64\n",
            "dtypes: float64(2), int64(2), object(3)\n",
            "memory usage: 73.3+ KB\n"
          ]
        }
      ]
    },
    {
      "cell_type": "markdown",
      "source": [
        "Using the function **describe()**, we can check the mean, standard deviation, maximum, and minimum of each numerical feature (column)"
      ],
      "metadata": {
        "id": "etxyPjAntJly"
      }
    },
    {
      "cell_type": "code",
      "source": [
        "data.describe()"
      ],
      "metadata": {
        "colab": {
          "base_uri": "https://localhost:8080/",
          "height": 300
        },
        "id": "4w20wkaRtKJM",
        "outputId": "270d4a0c-6697-4fbc-dca1-e9a698211066"
      },
      "execution_count": null,
      "outputs": [
        {
          "output_type": "execute_result",
          "data": {
            "text/plain": [
              "               age          bmi     children       charges\n",
              "count  1338.000000  1335.000000  1338.000000   1338.000000\n",
              "mean     39.207025    30.661423     1.094918  13270.422265\n",
              "std      14.049960     6.101038     1.205493  12110.011237\n",
              "min      18.000000    15.960000     0.000000   1121.873900\n",
              "25%      27.000000    26.302500     0.000000   4740.287150\n",
              "50%      39.000000    30.400000     1.000000   9382.033000\n",
              "75%      51.000000    34.687500     2.000000  16639.912515\n",
              "max      64.000000    53.130000     5.000000  63770.428010"
            ],
            "text/html": [
              "\n",
              "  <div id=\"df-410684db-e1dd-4f8a-baa0-3f282a7f0f80\" class=\"colab-df-container\">\n",
              "    <div>\n",
              "<style scoped>\n",
              "    .dataframe tbody tr th:only-of-type {\n",
              "        vertical-align: middle;\n",
              "    }\n",
              "\n",
              "    .dataframe tbody tr th {\n",
              "        vertical-align: top;\n",
              "    }\n",
              "\n",
              "    .dataframe thead th {\n",
              "        text-align: right;\n",
              "    }\n",
              "</style>\n",
              "<table border=\"1\" class=\"dataframe\">\n",
              "  <thead>\n",
              "    <tr style=\"text-align: right;\">\n",
              "      <th></th>\n",
              "      <th>age</th>\n",
              "      <th>bmi</th>\n",
              "      <th>children</th>\n",
              "      <th>charges</th>\n",
              "    </tr>\n",
              "  </thead>\n",
              "  <tbody>\n",
              "    <tr>\n",
              "      <th>count</th>\n",
              "      <td>1338.000000</td>\n",
              "      <td>1335.000000</td>\n",
              "      <td>1338.000000</td>\n",
              "      <td>1338.000000</td>\n",
              "    </tr>\n",
              "    <tr>\n",
              "      <th>mean</th>\n",
              "      <td>39.207025</td>\n",
              "      <td>30.661423</td>\n",
              "      <td>1.094918</td>\n",
              "      <td>13270.422265</td>\n",
              "    </tr>\n",
              "    <tr>\n",
              "      <th>std</th>\n",
              "      <td>14.049960</td>\n",
              "      <td>6.101038</td>\n",
              "      <td>1.205493</td>\n",
              "      <td>12110.011237</td>\n",
              "    </tr>\n",
              "    <tr>\n",
              "      <th>min</th>\n",
              "      <td>18.000000</td>\n",
              "      <td>15.960000</td>\n",
              "      <td>0.000000</td>\n",
              "      <td>1121.873900</td>\n",
              "    </tr>\n",
              "    <tr>\n",
              "      <th>25%</th>\n",
              "      <td>27.000000</td>\n",
              "      <td>26.302500</td>\n",
              "      <td>0.000000</td>\n",
              "      <td>4740.287150</td>\n",
              "    </tr>\n",
              "    <tr>\n",
              "      <th>50%</th>\n",
              "      <td>39.000000</td>\n",
              "      <td>30.400000</td>\n",
              "      <td>1.000000</td>\n",
              "      <td>9382.033000</td>\n",
              "    </tr>\n",
              "    <tr>\n",
              "      <th>75%</th>\n",
              "      <td>51.000000</td>\n",
              "      <td>34.687500</td>\n",
              "      <td>2.000000</td>\n",
              "      <td>16639.912515</td>\n",
              "    </tr>\n",
              "    <tr>\n",
              "      <th>max</th>\n",
              "      <td>64.000000</td>\n",
              "      <td>53.130000</td>\n",
              "      <td>5.000000</td>\n",
              "      <td>63770.428010</td>\n",
              "    </tr>\n",
              "  </tbody>\n",
              "</table>\n",
              "</div>\n",
              "    <div class=\"colab-df-buttons\">\n",
              "\n",
              "  <div class=\"colab-df-container\">\n",
              "    <button class=\"colab-df-convert\" onclick=\"convertToInteractive('df-410684db-e1dd-4f8a-baa0-3f282a7f0f80')\"\n",
              "            title=\"Convert this dataframe to an interactive table.\"\n",
              "            style=\"display:none;\">\n",
              "\n",
              "  <svg xmlns=\"http://www.w3.org/2000/svg\" height=\"24px\" viewBox=\"0 -960 960 960\">\n",
              "    <path d=\"M120-120v-720h720v720H120Zm60-500h600v-160H180v160Zm220 220h160v-160H400v160Zm0 220h160v-160H400v160ZM180-400h160v-160H180v160Zm440 0h160v-160H620v160ZM180-180h160v-160H180v160Zm440 0h160v-160H620v160Z\"/>\n",
              "  </svg>\n",
              "    </button>\n",
              "\n",
              "  <style>\n",
              "    .colab-df-container {\n",
              "      display:flex;\n",
              "      gap: 12px;\n",
              "    }\n",
              "\n",
              "    .colab-df-convert {\n",
              "      background-color: #E8F0FE;\n",
              "      border: none;\n",
              "      border-radius: 50%;\n",
              "      cursor: pointer;\n",
              "      display: none;\n",
              "      fill: #1967D2;\n",
              "      height: 32px;\n",
              "      padding: 0 0 0 0;\n",
              "      width: 32px;\n",
              "    }\n",
              "\n",
              "    .colab-df-convert:hover {\n",
              "      background-color: #E2EBFA;\n",
              "      box-shadow: 0px 1px 2px rgba(60, 64, 67, 0.3), 0px 1px 3px 1px rgba(60, 64, 67, 0.15);\n",
              "      fill: #174EA6;\n",
              "    }\n",
              "\n",
              "    .colab-df-buttons div {\n",
              "      margin-bottom: 4px;\n",
              "    }\n",
              "\n",
              "    [theme=dark] .colab-df-convert {\n",
              "      background-color: #3B4455;\n",
              "      fill: #D2E3FC;\n",
              "    }\n",
              "\n",
              "    [theme=dark] .colab-df-convert:hover {\n",
              "      background-color: #434B5C;\n",
              "      box-shadow: 0px 1px 3px 1px rgba(0, 0, 0, 0.15);\n",
              "      filter: drop-shadow(0px 1px 2px rgba(0, 0, 0, 0.3));\n",
              "      fill: #FFFFFF;\n",
              "    }\n",
              "  </style>\n",
              "\n",
              "    <script>\n",
              "      const buttonEl =\n",
              "        document.querySelector('#df-410684db-e1dd-4f8a-baa0-3f282a7f0f80 button.colab-df-convert');\n",
              "      buttonEl.style.display =\n",
              "        google.colab.kernel.accessAllowed ? 'block' : 'none';\n",
              "\n",
              "      async function convertToInteractive(key) {\n",
              "        const element = document.querySelector('#df-410684db-e1dd-4f8a-baa0-3f282a7f0f80');\n",
              "        const dataTable =\n",
              "          await google.colab.kernel.invokeFunction('convertToInteractive',\n",
              "                                                    [key], {});\n",
              "        if (!dataTable) return;\n",
              "\n",
              "        const docLinkHtml = 'Like what you see? Visit the ' +\n",
              "          '<a target=\"_blank\" href=https://colab.research.google.com/notebooks/data_table.ipynb>data table notebook</a>'\n",
              "          + ' to learn more about interactive tables.';\n",
              "        element.innerHTML = '';\n",
              "        dataTable['output_type'] = 'display_data';\n",
              "        await google.colab.output.renderOutput(dataTable, element);\n",
              "        const docLink = document.createElement('div');\n",
              "        docLink.innerHTML = docLinkHtml;\n",
              "        element.appendChild(docLink);\n",
              "      }\n",
              "    </script>\n",
              "  </div>\n",
              "\n",
              "\n",
              "    <div id=\"df-c168cdec-1ef8-47f4-854b-dfc0cf760d0c\">\n",
              "      <button class=\"colab-df-quickchart\" onclick=\"quickchart('df-c168cdec-1ef8-47f4-854b-dfc0cf760d0c')\"\n",
              "                title=\"Suggest charts\"\n",
              "                style=\"display:none;\">\n",
              "\n",
              "<svg xmlns=\"http://www.w3.org/2000/svg\" height=\"24px\"viewBox=\"0 0 24 24\"\n",
              "     width=\"24px\">\n",
              "    <g>\n",
              "        <path d=\"M19 3H5c-1.1 0-2 .9-2 2v14c0 1.1.9 2 2 2h14c1.1 0 2-.9 2-2V5c0-1.1-.9-2-2-2zM9 17H7v-7h2v7zm4 0h-2V7h2v10zm4 0h-2v-4h2v4z\"/>\n",
              "    </g>\n",
              "</svg>\n",
              "      </button>\n",
              "\n",
              "<style>\n",
              "  .colab-df-quickchart {\n",
              "      --bg-color: #E8F0FE;\n",
              "      --fill-color: #1967D2;\n",
              "      --hover-bg-color: #E2EBFA;\n",
              "      --hover-fill-color: #174EA6;\n",
              "      --disabled-fill-color: #AAA;\n",
              "      --disabled-bg-color: #DDD;\n",
              "  }\n",
              "\n",
              "  [theme=dark] .colab-df-quickchart {\n",
              "      --bg-color: #3B4455;\n",
              "      --fill-color: #D2E3FC;\n",
              "      --hover-bg-color: #434B5C;\n",
              "      --hover-fill-color: #FFFFFF;\n",
              "      --disabled-bg-color: #3B4455;\n",
              "      --disabled-fill-color: #666;\n",
              "  }\n",
              "\n",
              "  .colab-df-quickchart {\n",
              "    background-color: var(--bg-color);\n",
              "    border: none;\n",
              "    border-radius: 50%;\n",
              "    cursor: pointer;\n",
              "    display: none;\n",
              "    fill: var(--fill-color);\n",
              "    height: 32px;\n",
              "    padding: 0;\n",
              "    width: 32px;\n",
              "  }\n",
              "\n",
              "  .colab-df-quickchart:hover {\n",
              "    background-color: var(--hover-bg-color);\n",
              "    box-shadow: 0 1px 2px rgba(60, 64, 67, 0.3), 0 1px 3px 1px rgba(60, 64, 67, 0.15);\n",
              "    fill: var(--button-hover-fill-color);\n",
              "  }\n",
              "\n",
              "  .colab-df-quickchart-complete:disabled,\n",
              "  .colab-df-quickchart-complete:disabled:hover {\n",
              "    background-color: var(--disabled-bg-color);\n",
              "    fill: var(--disabled-fill-color);\n",
              "    box-shadow: none;\n",
              "  }\n",
              "\n",
              "  .colab-df-spinner {\n",
              "    border: 2px solid var(--fill-color);\n",
              "    border-color: transparent;\n",
              "    border-bottom-color: var(--fill-color);\n",
              "    animation:\n",
              "      spin 1s steps(1) infinite;\n",
              "  }\n",
              "\n",
              "  @keyframes spin {\n",
              "    0% {\n",
              "      border-color: transparent;\n",
              "      border-bottom-color: var(--fill-color);\n",
              "      border-left-color: var(--fill-color);\n",
              "    }\n",
              "    20% {\n",
              "      border-color: transparent;\n",
              "      border-left-color: var(--fill-color);\n",
              "      border-top-color: var(--fill-color);\n",
              "    }\n",
              "    30% {\n",
              "      border-color: transparent;\n",
              "      border-left-color: var(--fill-color);\n",
              "      border-top-color: var(--fill-color);\n",
              "      border-right-color: var(--fill-color);\n",
              "    }\n",
              "    40% {\n",
              "      border-color: transparent;\n",
              "      border-right-color: var(--fill-color);\n",
              "      border-top-color: var(--fill-color);\n",
              "    }\n",
              "    60% {\n",
              "      border-color: transparent;\n",
              "      border-right-color: var(--fill-color);\n",
              "    }\n",
              "    80% {\n",
              "      border-color: transparent;\n",
              "      border-right-color: var(--fill-color);\n",
              "      border-bottom-color: var(--fill-color);\n",
              "    }\n",
              "    90% {\n",
              "      border-color: transparent;\n",
              "      border-bottom-color: var(--fill-color);\n",
              "    }\n",
              "  }\n",
              "</style>\n",
              "\n",
              "      <script>\n",
              "        async function quickchart(key) {\n",
              "          const quickchartButtonEl =\n",
              "            document.querySelector('#' + key + ' button');\n",
              "          quickchartButtonEl.disabled = true;  // To prevent multiple clicks.\n",
              "          quickchartButtonEl.classList.add('colab-df-spinner');\n",
              "          try {\n",
              "            const charts = await google.colab.kernel.invokeFunction(\n",
              "                'suggestCharts', [key], {});\n",
              "          } catch (error) {\n",
              "            console.error('Error during call to suggestCharts:', error);\n",
              "          }\n",
              "          quickchartButtonEl.classList.remove('colab-df-spinner');\n",
              "          quickchartButtonEl.classList.add('colab-df-quickchart-complete');\n",
              "        }\n",
              "        (() => {\n",
              "          let quickchartButtonEl =\n",
              "            document.querySelector('#df-c168cdec-1ef8-47f4-854b-dfc0cf760d0c button');\n",
              "          quickchartButtonEl.style.display =\n",
              "            google.colab.kernel.accessAllowed ? 'block' : 'none';\n",
              "        })();\n",
              "      </script>\n",
              "    </div>\n",
              "\n",
              "    </div>\n",
              "  </div>\n"
            ],
            "application/vnd.google.colaboratory.intrinsic+json": {
              "type": "dataframe",
              "summary": "{\n  \"name\": \"data\",\n  \"rows\": 8,\n  \"fields\": [\n    {\n      \"column\": \"age\",\n      \"properties\": {\n        \"dtype\": \"number\",\n        \"std\": 460.6106090399993,\n        \"min\": 14.049960379216172,\n        \"max\": 1338.0,\n        \"num_unique_values\": 8,\n        \"samples\": [\n          39.20702541106129,\n          39.0,\n          1338.0\n        ],\n        \"semantic_type\": \"\",\n        \"description\": \"\"\n      }\n    },\n    {\n      \"column\": \"bmi\",\n      \"properties\": {\n        \"dtype\": \"number\",\n        \"std\": 462.2349739608294,\n        \"min\": 6.1010383695987755,\n        \"max\": 1335.0,\n        \"num_unique_values\": 8,\n        \"samples\": [\n          30.661423220973784,\n          30.4,\n          1335.0\n        ],\n        \"semantic_type\": \"\",\n        \"description\": \"\"\n      }\n    },\n    {\n      \"column\": \"children\",\n      \"properties\": {\n        \"dtype\": \"number\",\n        \"std\": 472.5368318870757,\n        \"min\": 0.0,\n        \"max\": 1338.0,\n        \"num_unique_values\": 7,\n        \"samples\": [\n          1338.0,\n          1.0949177877429,\n          2.0\n        ],\n        \"semantic_type\": \"\",\n        \"description\": \"\"\n      }\n    },\n    {\n      \"column\": \"charges\",\n      \"properties\": {\n        \"dtype\": \"number\",\n        \"std\": 20381.922846226596,\n        \"min\": 1121.8739,\n        \"max\": 63770.42801,\n        \"num_unique_values\": 8,\n        \"samples\": [\n          13270.422265141257,\n          9382.033,\n          1338.0\n        ],\n        \"semantic_type\": \"\",\n        \"description\": \"\"\n      }\n    }\n  ]\n}"
            }
          },
          "metadata": {},
          "execution_count": 6
        }
      ]
    },
    {
      "cell_type": "markdown",
      "source": [
        "**Check for duplicate Rows**"
      ],
      "metadata": {
        "id": "0Ue6QUUcta2J"
      }
    },
    {
      "cell_type": "code",
      "source": [
        "#Check for duplicate rows\n",
        "print(\"Duplicate rows before removal:\", data.duplicated().sum())"
      ],
      "metadata": {
        "colab": {
          "base_uri": "https://localhost:8080/"
        },
        "id": "C7nMGQGDtcmk",
        "outputId": "c92bb6a4-be24-4f16-e044-1f23c91afff2"
      },
      "execution_count": null,
      "outputs": [
        {
          "output_type": "stream",
          "name": "stdout",
          "text": [
            "Duplicate rows before removal: 1\n"
          ]
        }
      ]
    },
    {
      "cell_type": "code",
      "source": [
        "#Remove duplicates\n",
        "data.drop_duplicates(inplace=True)"
      ],
      "metadata": {
        "id": "EGJ0-zuMu0m5"
      },
      "execution_count": null,
      "outputs": []
    },
    {
      "cell_type": "code",
      "source": [
        "#Confirm removal\n",
        "print(\"Duplicate rows after removal:\", data.duplicated().sum())"
      ],
      "metadata": {
        "colab": {
          "base_uri": "https://localhost:8080/"
        },
        "id": "-4gVWaYTu5N2",
        "outputId": "13154e21-378d-4163-9130-69c2d7b923b5"
      },
      "execution_count": null,
      "outputs": [
        {
          "output_type": "stream",
          "name": "stdout",
          "text": [
            "Duplicate rows after removal: 0\n"
          ]
        }
      ]
    },
    {
      "cell_type": "markdown",
      "source": [
        "**Check for outliers**"
      ],
      "metadata": {
        "id": "FUqydReLtdHF"
      }
    },
    {
      "cell_type": "code",
      "source": [
        "#Detect Outliers using IQR\n",
        "#define numeric columns to check\n",
        "numeric_cols = ['bmi', 'charges']\n",
        "\n",
        "#Dictionary for outlier counts\n",
        "outlier_counts = {}\n",
        "\n",
        "for col in numeric_cols:\n",
        "    Q1 = data[col].quantile(0.25)\n",
        "    Q3 = data[col].quantile(0.75)\n",
        "    IQR = Q3 - Q1\n",
        "    lower = Q1 - 1.5 * IQR\n",
        "    upper = Q3 + 1.5 * IQR\n",
        "\n",
        "    #Count outliers\n",
        "    count = data[(data[col] < lower) | (data[col] > upper)].shape[0]\n",
        "    outlier_counts[col] = count\n",
        "\n",
        "#Print the outliers per column\n",
        "print(\"Outlier count per column (before removal):\")\n",
        "for col, count in outlier_counts.items():\n",
        "    print(f\"{col}: {count}\")"
      ],
      "metadata": {
        "colab": {
          "base_uri": "https://localhost:8080/"
        },
        "id": "LyTuPi6jthSx",
        "outputId": "c96ae500-cd4a-43a7-f994-885ebcc1d7a2"
      },
      "execution_count": null,
      "outputs": [
        {
          "output_type": "stream",
          "name": "stdout",
          "text": [
            "Outlier count per column (before removal):\n",
            "bmi: 9\n",
            "charges: 139\n"
          ]
        }
      ]
    },
    {
      "cell_type": "code",
      "source": [
        "#Boxplot to visualize outliers\n",
        "import seaborn as sns\n",
        "for col in numeric_cols:\n",
        "    plt.figure(figsize=(6, 3))\n",
        "    sns.boxplot(x=data[col])\n",
        "    plt.title(f'Boxplot for {col} (Before Outlier Removal)')\n",
        "    plt.show()"
      ],
      "metadata": {
        "colab": {
          "base_uri": "https://localhost:8080/",
          "height": 649
        },
        "id": "fa-YcBiXtl7R",
        "outputId": "724f3d05-f153-45df-f4e0-ea84c562730b"
      },
      "execution_count": null,
      "outputs": [
        {
          "output_type": "display_data",
          "data": {
            "text/plain": [
              "<Figure size 600x300 with 1 Axes>"
            ],
            "image/png": "[encoded data removed]"
          },
          "metadata": {}
        },
        {
          "output_type": "display_data",
          "data": {
            "text/plain": [
              "<Figure size 600x300 with 1 Axes>"
            ],
            "image/png": "[encoded data removed]"
          },
          "metadata": {}
        }
      ]
    },
    {
      "cell_type": "markdown",
      "source": [
        "A total of 139 outliers were detected in the charges column and 9 in bmi. These values likely reflect real high-cost medical cases, often linked to smokers or severe conditions.\n",
        "\n",
        "\n"
      ],
      "metadata": {
        "id": "br0qR3SwYs-Z"
      }
    },
    {
      "cell_type": "markdown",
      "source": [
        "In Part I (regression), we kept the outliers since they significantly improved performance by preserving important variance in charges.\n",
        "\n",
        "In contrast, for Part II (classification), these outliers harmed model accuracy and precision by introducing noise and overlap between smokers and non-smokers, so we removed them.\n",
        "\n",
        "This highlights that the effect of outliers depends on the target variable and modeling goal.\n",
        "\n",
        "We therefore tailored preprocessing: kept outliers for regression (Part I), and removed them for classification using a data copy (Part II)."
      ],
      "metadata": {
        "id": "_P_B3sdRbW4T"
      }
    },
    {
      "cell_type": "markdown",
      "source": [
        "**Check missing values per column**"
      ],
      "metadata": {
        "id": "J5uarABhs3ff"
      }
    },
    {
      "cell_type": "code",
      "source": [
        "print('missing values per column')\n",
        "print(data.isnull().sum())"
      ],
      "metadata": {
        "colab": {
          "base_uri": "https://localhost:8080/"
        },
        "id": "G5MnbFAswFUY",
        "outputId": "d80c3245-959e-45b8-96e1-458a68a8ed7e"
      },
      "execution_count": null,
      "outputs": [
        {
          "output_type": "stream",
          "name": "stdout",
          "text": [
            "missing values per column\n",
            "age         0\n",
            "sex         0\n",
            "bmi         3\n",
            "children    0\n",
            "smoker      0\n",
            "region      0\n",
            "charges     0\n",
            "dtype: int64\n"
          ]
        }
      ]
    },
    {
      "cell_type": "markdown",
      "source": [
        "**Handling Missing values in bmi**"
      ],
      "metadata": {
        "id": "cfx4h9vWQhB-"
      }
    },
    {
      "cell_type": "code",
      "source": [
        "data['bmi'].fillna(data['bmi'].median(), inplace=True)"
      ],
      "metadata": {
        "colab": {
          "base_uri": "https://localhost:8080/"
        },
        "id": "XBNa4FnUQgtB",
        "outputId": "7a80d7f5-a5f8-451e-c920-88b6c122fc2f"
      },
      "execution_count": null,
      "outputs": [
        {
          "output_type": "stream",
          "name": "stderr",
          "text": [
            "<ipython-input-13-1997496975>:1: FutureWarning: A value is trying to be set on a copy of a DataFrame or Series through chained assignment using an inplace method.\n",
            "The behavior will change in pandas 3.0. This inplace method will never work because the intermediate object on which we are setting values always behaves as a copy.\n",
            "\n",
            "For example, when doing 'df[col].method(value, inplace=True)', try using 'df.method({col: value}, inplace=True)' or df[col] = df[col].method(value) instead, to perform the operation inplace on the original object.\n",
            "\n",
            "\n",
            "  data['bmi'].fillna(data['bmi'].median(), inplace=True)\n"
          ]
        }
      ]
    },
    {
      "cell_type": "code",
      "source": [
        "print(data.isnull().sum()) #check if all missing values are filled now"
      ],
      "metadata": {
        "colab": {
          "base_uri": "https://localhost:8080/"
        },
        "id": "nCa5UIH5Q4kb",
        "outputId": "fd44fe0b-6f63-4fc2-ff82-347012aebc8b"
      },
      "execution_count": null,
      "outputs": [
        {
          "output_type": "stream",
          "name": "stdout",
          "text": [
            "age         0\n",
            "sex         0\n",
            "bmi         0\n",
            "children    0\n",
            "smoker      0\n",
            "region      0\n",
            "charges     0\n",
            "dtype: int64\n"
          ]
        }
      ]
    },
    {
      "cell_type": "markdown",
      "source": [
        "No more missing values!"
      ],
      "metadata": {
        "id": "6gDOfxYUaalC"
      }
    },
    {
      "cell_type": "markdown",
      "source": [
        "**Unused columns removal**"
      ],
      "metadata": {
        "id": "1TY0bwP2ak8O"
      }
    },
    {
      "cell_type": "code",
      "source": [
        "#dropping the region feature\n",
        "data.drop('region', axis=1, inplace=True)\n",
        "data.head()"
      ],
      "metadata": {
        "colab": {
          "base_uri": "https://localhost:8080/",
          "height": 206
        },
        "id": "4Q6DSjoqwj-Q",
        "outputId": "b4e1d1e6-1ccc-47d7-bafb-8e2bcbd7ad59"
      },
      "execution_count": null,
      "outputs": [
        {
          "output_type": "execute_result",
          "data": {
            "text/plain": [
              "   age     sex     bmi  children smoker      charges\n",
              "0   19  female  27.900         0    yes  16884.92400\n",
              "1   18    male  33.770         1     no   1725.55230\n",
              "2   28    male  33.000         3     no   4449.46200\n",
              "3   33    male  22.705         0     no  21984.47061\n",
              "4   32    male  28.880         0     no   3866.85520"
            ],
            "text/html": [
              "\n",
              "  <div id=\"df-0a71bcd9-9c58-4af2-9667-3c3bd0169106\" class=\"colab-df-container\">\n",
              "    <div>\n",
              "<style scoped>\n",
              "    .dataframe tbody tr th:only-of-type {\n",
              "        vertical-align: middle;\n",
              "    }\n",
              "\n",
              "    .dataframe tbody tr th {\n",
              "        vertical-align: top;\n",
              "    }\n",
              "\n",
              "    .dataframe thead th {\n",
              "        text-align: right;\n",
              "    }\n",
              "</style>\n",
              "<table border=\"1\" class=\"dataframe\">\n",
              "  <thead>\n",
              "    <tr style=\"text-align: right;\">\n",
              "      <th></th>\n",
              "      <th>age</th>\n",
              "      <th>sex</th>\n",
              "      <th>bmi</th>\n",
              "      <th>children</th>\n",
              "      <th>smoker</th>\n",
              "      <th>charges</th>\n",
              "    </tr>\n",
              "  </thead>\n",
              "  <tbody>\n",
              "    <tr>\n",
              "      <th>0</th>\n",
              "      <td>19</td>\n",
              "      <td>female</td>\n",
              "      <td>27.900</td>\n",
              "      <td>0</td>\n",
              "      <td>yes</td>\n",
              "      <td>16884.92400</td>\n",
              "    </tr>\n",
              "    <tr>\n",
              "      <th>1</th>\n",
              "      <td>18</td>\n",
              "      <td>male</td>\n",
              "      <td>33.770</td>\n",
              "      <td>1</td>\n",
              "      <td>no</td>\n",
              "      <td>1725.55230</td>\n",
              "    </tr>\n",
              "    <tr>\n",
              "      <th>2</th>\n",
              "      <td>28</td>\n",
              "      <td>male</td>\n",
              "      <td>33.000</td>\n",
              "      <td>3</td>\n",
              "      <td>no</td>\n",
              "      <td>4449.46200</td>\n",
              "    </tr>\n",
              "    <tr>\n",
              "      <th>3</th>\n",
              "      <td>33</td>\n",
              "      <td>male</td>\n",
              "      <td>22.705</td>\n",
              "      <td>0</td>\n",
              "      <td>no</td>\n",
              "      <td>21984.47061</td>\n",
              "    </tr>\n",
              "    <tr>\n",
              "      <th>4</th>\n",
              "      <td>32</td>\n",
              "      <td>male</td>\n",
              "      <td>28.880</td>\n",
              "      <td>0</td>\n",
              "      <td>no</td>\n",
              "      <td>3866.85520</td>\n",
              "    </tr>\n",
              "  </tbody>\n",
              "</table>\n",
              "</div>\n",
              "    <div class=\"colab-df-buttons\">\n",
              "\n",
              "  <div class=\"colab-df-container\">\n",
              "    <button class=\"colab-df-convert\" onclick=\"convertToInteractive('df-0a71bcd9-9c58-4af2-9667-3c3bd0169106')\"\n",
              "            title=\"Convert this dataframe to an interactive table.\"\n",
              "            style=\"display:none;\">\n",
              "\n",
              "  <svg xmlns=\"http://www.w3.org/2000/svg\" height=\"24px\" viewBox=\"0 -960 960 960\">\n",
              "    <path d=\"M120-120v-720h720v720H120Zm60-500h600v-160H180v160Zm220 220h160v-160H400v160Zm0 220h160v-160H400v160ZM180-400h160v-160H180v160Zm440 0h160v-160H620v160ZM180-180h160v-160H180v160Zm440 0h160v-160H620v160Z\"/>\n",
              "  </svg>\n",
              "    </button>\n",
              "\n",
              "  <style>\n",
              "    .colab-df-container {\n",
              "      display:flex;\n",
              "      gap: 12px;\n",
              "    }\n",
              "\n",
              "    .colab-df-convert {\n",
              "      background-color: #E8F0FE;\n",
              "      border: none;\n",
              "      border-radius: 50%;\n",
              "      cursor: pointer;\n",
              "      display: none;\n",
              "      fill: #1967D2;\n",
              "      height: 32px;\n",
              "      padding: 0 0 0 0;\n",
              "      width: 32px;\n",
              "    }\n",
              "\n",
              "    .colab-df-convert:hover {\n",
              "      background-color: #E2EBFA;\n",
              "      box-shadow: 0px 1px 2px rgba(60, 64, 67, 0.3), 0px 1px 3px 1px rgba(60, 64, 67, 0.15);\n",
              "      fill: #174EA6;\n",
              "    }\n",
              "\n",
              "    .colab-df-buttons div {\n",
              "      margin-bottom: 4px;\n",
              "    }\n",
              "\n",
              "    [theme=dark] .colab-df-convert {\n",
              "      background-color: #3B4455;\n",
              "      fill: #D2E3FC;\n",
              "    }\n",
              "\n",
              "    [theme=dark] .colab-df-convert:hover {\n",
              "      background-color: #434B5C;\n",
              "      box-shadow: 0px 1px 3px 1px rgba(0, 0, 0, 0.15);\n",
              "      filter: drop-shadow(0px 1px 2px rgba(0, 0, 0, 0.3));\n",
              "      fill: #FFFFFF;\n",
              "    }\n",
              "  </style>\n",
              "\n",
              "    <script>\n",
              "      const buttonEl =\n",
              "        document.querySelector('#df-0a71bcd9-9c58-4af2-9667-3c3bd0169106 button.colab-df-convert');\n",
              "      buttonEl.style.display =\n",
              "        google.colab.kernel.accessAllowed ? 'block' : 'none';\n",
              "\n",
              "      async function convertToInteractive(key) {\n",
              "        const element = document.querySelector('#df-0a71bcd9-9c58-4af2-9667-3c3bd0169106');\n",
              "        const dataTable =\n",
              "          await google.colab.kernel.invokeFunction('convertToInteractive',\n",
              "                                                    [key], {});\n",
              "        if (!dataTable) return;\n",
              "\n",
              "        const docLinkHtml = 'Like what you see? Visit the ' +\n",
              "          '<a target=\"_blank\" href=https://colab.research.google.com/notebooks/data_table.ipynb>data table notebook</a>'\n",
              "          + ' to learn more about interactive tables.';\n",
              "        element.innerHTML = '';\n",
              "        dataTable['output_type'] = 'display_data';\n",
              "        await google.colab.output.renderOutput(dataTable, element);\n",
              "        const docLink = document.createElement('div');\n",
              "        docLink.innerHTML = docLinkHtml;\n",
              "        element.appendChild(docLink);\n",
              "      }\n",
              "    </script>\n",
              "  </div>\n",
              "\n",
              "\n",
              "    <div id=\"df-039e4667-7249-4dcf-9789-936b590728ba\">\n",
              "      <button class=\"colab-df-quickchart\" onclick=\"quickchart('df-039e4667-7249-4dcf-9789-936b590728ba')\"\n",
              "                title=\"Suggest charts\"\n",
              "                style=\"display:none;\">\n",
              "\n",
              "<svg xmlns=\"http://www.w3.org/2000/svg\" height=\"24px\"viewBox=\"0 0 24 24\"\n",
              "     width=\"24px\">\n",
              "    <g>\n",
              "        <path d=\"M19 3H5c-1.1 0-2 .9-2 2v14c0 1.1.9 2 2 2h14c1.1 0 2-.9 2-2V5c0-1.1-.9-2-2-2zM9 17H7v-7h2v7zm4 0h-2V7h2v10zm4 0h-2v-4h2v4z\"/>\n",
              "    </g>\n",
              "</svg>\n",
              "      </button>\n",
              "\n",
              "<style>\n",
              "  .colab-df-quickchart {\n",
              "      --bg-color: #E8F0FE;\n",
              "      --fill-color: #1967D2;\n",
              "      --hover-bg-color: #E2EBFA;\n",
              "      --hover-fill-color: #174EA6;\n",
              "      --disabled-fill-color: #AAA;\n",
              "      --disabled-bg-color: #DDD;\n",
              "  }\n",
              "\n",
              "  [theme=dark] .colab-df-quickchart {\n",
              "      --bg-color: #3B4455;\n",
              "      --fill-color: #D2E3FC;\n",
              "      --hover-bg-color: #434B5C;\n",
              "      --hover-fill-color: #FFFFFF;\n",
              "      --disabled-bg-color: #3B4455;\n",
              "      --disabled-fill-color: #666;\n",
              "  }\n",
              "\n",
              "  .colab-df-quickchart {\n",
              "    background-color: var(--bg-color);\n",
              "    border: none;\n",
              "    border-radius: 50%;\n",
              "    cursor: pointer;\n",
              "    display: none;\n",
              "    fill: var(--fill-color);\n",
              "    height: 32px;\n",
              "    padding: 0;\n",
              "    width: 32px;\n",
              "  }\n",
              "\n",
              "  .colab-df-quickchart:hover {\n",
              "    background-color: var(--hover-bg-color);\n",
              "    box-shadow: 0 1px 2px rgba(60, 64, 67, 0.3), 0 1px 3px 1px rgba(60, 64, 67, 0.15);\n",
              "    fill: var(--button-hover-fill-color);\n",
              "  }\n",
              "\n",
              "  .colab-df-quickchart-complete:disabled,\n",
              "  .colab-df-quickchart-complete:disabled:hover {\n",
              "    background-color: var(--disabled-bg-color);\n",
              "    fill: var(--disabled-fill-color);\n",
              "    box-shadow: none;\n",
              "  }\n",
              "\n",
              "  .colab-df-spinner {\n",
              "    border: 2px solid var(--fill-color);\n",
              "    border-color: transparent;\n",
              "    border-bottom-color: var(--fill-color);\n",
              "    animation:\n",
              "      spin 1s steps(1) infinite;\n",
              "  }\n",
              "\n",
              "  @keyframes spin {\n",
              "    0% {\n",
              "      border-color: transparent;\n",
              "      border-bottom-color: var(--fill-color);\n",
              "      border-left-color: var(--fill-color);\n",
              "    }\n",
              "    20% {\n",
              "      border-color: transparent;\n",
              "      border-left-color: var(--fill-color);\n",
              "      border-top-color: var(--fill-color);\n",
              "    }\n",
              "    30% {\n",
              "      border-color: transparent;\n",
              "      border-left-color: var(--fill-color);\n",
              "      border-top-color: var(--fill-color);\n",
              "      border-right-color: var(--fill-color);\n",
              "    }\n",
              "    40% {\n",
              "      border-color: transparent;\n",
              "      border-right-color: var(--fill-color);\n",
              "      border-top-color: var(--fill-color);\n",
              "    }\n",
              "    60% {\n",
              "      border-color: transparent;\n",
              "      border-right-color: var(--fill-color);\n",
              "    }\n",
              "    80% {\n",
              "      border-color: transparent;\n",
              "      border-right-color: var(--fill-color);\n",
              "      border-bottom-color: var(--fill-color);\n",
              "    }\n",
              "    90% {\n",
              "      border-color: transparent;\n",
              "      border-bottom-color: var(--fill-color);\n",
              "    }\n",
              "  }\n",
              "</style>\n",
              "\n",
              "      <script>\n",
              "        async function quickchart(key) {\n",
              "          const quickchartButtonEl =\n",
              "            document.querySelector('#' + key + ' button');\n",
              "          quickchartButtonEl.disabled = true;  // To prevent multiple clicks.\n",
              "          quickchartButtonEl.classList.add('colab-df-spinner');\n",
              "          try {\n",
              "            const charts = await google.colab.kernel.invokeFunction(\n",
              "                'suggestCharts', [key], {});\n",
              "          } catch (error) {\n",
              "            console.error('Error during call to suggestCharts:', error);\n",
              "          }\n",
              "          quickchartButtonEl.classList.remove('colab-df-spinner');\n",
              "          quickchartButtonEl.classList.add('colab-df-quickchart-complete');\n",
              "        }\n",
              "        (() => {\n",
              "          let quickchartButtonEl =\n",
              "            document.querySelector('#df-039e4667-7249-4dcf-9789-936b590728ba button');\n",
              "          quickchartButtonEl.style.display =\n",
              "            google.colab.kernel.accessAllowed ? 'block' : 'none';\n",
              "        })();\n",
              "      </script>\n",
              "    </div>\n",
              "\n",
              "    </div>\n",
              "  </div>\n"
            ],
            "application/vnd.google.colaboratory.intrinsic+json": {
              "type": "dataframe",
              "variable_name": "data",
              "summary": "{\n  \"name\": \"data\",\n  \"rows\": 1337,\n  \"fields\": [\n    {\n      \"column\": \"age\",\n      \"properties\": {\n        \"dtype\": \"number\",\n        \"std\": 14,\n        \"min\": 18,\n        \"max\": 64,\n        \"num_unique_values\": 47,\n        \"samples\": [\n          21,\n          45,\n          36\n        ],\n        \"semantic_type\": \"\",\n        \"description\": \"\"\n      }\n    },\n    {\n      \"column\": \"sex\",\n      \"properties\": {\n        \"dtype\": \"category\",\n        \"num_unique_values\": 2,\n        \"samples\": [\n          \"male\",\n          \"female\"\n        ],\n        \"semantic_type\": \"\",\n        \"description\": \"\"\n      }\n    },\n    {\n      \"column\": \"bmi\",\n      \"properties\": {\n        \"dtype\": \"number\",\n        \"std\": 6.09648425882306,\n        \"min\": 15.96,\n        \"max\": 53.13,\n        \"num_unique_values\": 549,\n        \"samples\": [\n          25.365,\n          38.285\n        ],\n        \"semantic_type\": \"\",\n        \"description\": \"\"\n      }\n    },\n    {\n      \"column\": \"children\",\n      \"properties\": {\n        \"dtype\": \"number\",\n        \"std\": 1,\n        \"min\": 0,\n        \"max\": 5,\n        \"num_unique_values\": 6,\n        \"samples\": [\n          0,\n          1\n        ],\n        \"semantic_type\": \"\",\n        \"description\": \"\"\n      }\n    },\n    {\n      \"column\": \"smoker\",\n      \"properties\": {\n        \"dtype\": \"category\",\n        \"num_unique_values\": 2,\n        \"samples\": [\n          \"no\",\n          \"yes\"\n        ],\n        \"semantic_type\": \"\",\n        \"description\": \"\"\n      }\n    },\n    {\n      \"column\": \"charges\",\n      \"properties\": {\n        \"dtype\": \"number\",\n        \"std\": 12110.359656344179,\n        \"min\": 1121.8739,\n        \"max\": 63770.42801,\n        \"num_unique_values\": 1337,\n        \"samples\": [\n          8688.85885,\n          5708.867\n        ],\n        \"semantic_type\": \"\",\n        \"description\": \"\"\n      }\n    }\n  ]\n}"
            }
          },
          "metadata": {},
          "execution_count": 15
        }
      ]
    },
    {
      "cell_type": "markdown",
      "source": [
        "The region column was removed since it didn't provide meaningful predictive power for the target variables."
      ],
      "metadata": {
        "id": "YIRbMGI3a0vk"
      }
    },
    {
      "cell_type": "markdown",
      "source": [
        "**Visualizing Class Imbalance**"
      ],
      "metadata": {
        "id": "gHPqj2ph7Yk7"
      }
    },
    {
      "cell_type": "code",
      "source": [
        "import seaborn as sns\n",
        "import matplotlib.pyplot as plt\n",
        "\n",
        "#Count Plot\n",
        "sns.countplot(x='smoker', data=data)\n",
        "plt.title('Distribution of Smoker vs Non-Smoker')\n",
        "plt.xlabel('Smoker Status (0 = Non-Smoker, 1 = Smoker)')\n",
        "plt.ylabel('Count')\n",
        "plt.show()"
      ],
      "metadata": {
        "id": "m52HqNCz7k6s",
        "colab": {
          "base_uri": "https://localhost:8080/",
          "height": 472
        },
        "outputId": "ab7712d0-a1c8-4688-e7ec-7fc9a796b6cd"
      },
      "execution_count": null,
      "outputs": [
        {
          "output_type": "display_data",
          "data": {
            "text/plain": [
              "<Figure size 640x480 with 1 Axes>"
            ],
            "image/png": "[encoded data removed]"
          },
          "metadata": {}
        }
      ]
    },
    {
      "cell_type": "markdown",
      "source": [
        "This graph shows a significant class imbalance, where non-smokers are dominant compared to smokers in this dataset.\n",
        "\n",
        "To solve this, class weights is applied during model training (in Part II specifically) to ensure the minority class (smokers) is not ignored."
      ],
      "metadata": {
        "id": "qKrg7Eqh758j"
      }
    },
    {
      "cell_type": "markdown",
      "source": [
        "##3. Convert Categorical columns to numerical\n",
        "\n",
        "- We need to convert the sex column from male/female to 0/1.\n",
        "- In addition, the smoker column from no/yes to 0/1.\n",
        "\n"
      ],
      "metadata": {
        "id": "xpFxymaMwa4v"
      }
    },
    {
      "cell_type": "markdown",
      "source": [
        "Let's start with the' sex' column"
      ],
      "metadata": {
        "id": "qXcFYnHQbpdc"
      }
    },
    {
      "cell_type": "code",
      "source": [
        "#define dictionary\n",
        "gender = {'male':0, 'female':1}\n",
        "#replace sex column with 0/1\n",
        "data['sex'] = data['sex'].apply(lambda x: gender[x])\n",
        "#print head to verify\n",
        "data.head()"
      ],
      "metadata": {
        "colab": {
          "base_uri": "https://localhost:8080/",
          "height": 206
        },
        "id": "EM_oDcYPwbLe",
        "outputId": "c83dc203-1d4b-4dea-942b-61b3511bd207"
      },
      "execution_count": null,
      "outputs": [
        {
          "output_type": "execute_result",
          "data": {
            "text/plain": [
              "   age  sex     bmi  children smoker      charges\n",
              "0   19    1  27.900         0    yes  16884.92400\n",
              "1   18    0  33.770         1     no   1725.55230\n",
              "2   28    0  33.000         3     no   4449.46200\n",
              "3   33    0  22.705         0     no  21984.47061\n",
              "4   32    0  28.880         0     no   3866.85520"
            ],
            "text/html": [
              "\n",
              "  <div id=\"df-0871c670-69ff-4042-bf8c-4ed101ccaf56\" class=\"colab-df-container\">\n",
              "    <div>\n",
              "<style scoped>\n",
              "    .dataframe tbody tr th:only-of-type {\n",
              "        vertical-align: middle;\n",
              "    }\n",
              "\n",
              "    .dataframe tbody tr th {\n",
              "        vertical-align: top;\n",
              "    }\n",
              "\n",
              "    .dataframe thead th {\n",
              "        text-align: right;\n",
              "    }\n",
              "</style>\n",
              "<table border=\"1\" class=\"dataframe\">\n",
              "  <thead>\n",
              "    <tr style=\"text-align: right;\">\n",
              "      <th></th>\n",
              "      <th>age</th>\n",
              "      <th>sex</th>\n",
              "      <th>bmi</th>\n",
              "      <th>children</th>\n",
              "      <th>smoker</th>\n",
              "      <th>charges</th>\n",
              "    </tr>\n",
              "  </thead>\n",
              "  <tbody>\n",
              "    <tr>\n",
              "      <th>0</th>\n",
              "      <td>19</td>\n",
              "      <td>1</td>\n",
              "      <td>27.900</td>\n",
              "      <td>0</td>\n",
              "      <td>yes</td>\n",
              "      <td>16884.92400</td>\n",
              "    </tr>\n",
              "    <tr>\n",
              "      <th>1</th>\n",
              "      <td>18</td>\n",
              "      <td>0</td>\n",
              "      <td>33.770</td>\n",
              "      <td>1</td>\n",
              "      <td>no</td>\n",
              "      <td>1725.55230</td>\n",
              "    </tr>\n",
              "    <tr>\n",
              "      <th>2</th>\n",
              "      <td>28</td>\n",
              "      <td>0</td>\n",
              "      <td>33.000</td>\n",
              "      <td>3</td>\n",
              "      <td>no</td>\n",
              "      <td>4449.46200</td>\n",
              "    </tr>\n",
              "    <tr>\n",
              "      <th>3</th>\n",
              "      <td>33</td>\n",
              "      <td>0</td>\n",
              "      <td>22.705</td>\n",
              "      <td>0</td>\n",
              "      <td>no</td>\n",
              "      <td>21984.47061</td>\n",
              "    </tr>\n",
              "    <tr>\n",
              "      <th>4</th>\n",
              "      <td>32</td>\n",
              "      <td>0</td>\n",
              "      <td>28.880</td>\n",
              "      <td>0</td>\n",
              "      <td>no</td>\n",
              "      <td>3866.85520</td>\n",
              "    </tr>\n",
              "  </tbody>\n",
              "</table>\n",
              "</div>\n",
              "    <div class=\"colab-df-buttons\">\n",
              "\n",
              "  <div class=\"colab-df-container\">\n",
              "    <button class=\"colab-df-convert\" onclick=\"convertToInteractive('df-0871c670-69ff-4042-bf8c-4ed101ccaf56')\"\n",
              "            title=\"Convert this dataframe to an interactive table.\"\n",
              "            style=\"display:none;\">\n",
              "\n",
              "  <svg xmlns=\"http://www.w3.org/2000/svg\" height=\"24px\" viewBox=\"0 -960 960 960\">\n",
              "    <path d=\"M120-120v-720h720v720H120Zm60-500h600v-160H180v160Zm220 220h160v-160H400v160Zm0 220h160v-160H400v160ZM180-400h160v-160H180v160Zm440 0h160v-160H620v160ZM180-180h160v-160H180v160Zm440 0h160v-160H620v160Z\"/>\n",
              "  </svg>\n",
              "    </button>\n",
              "\n",
              "  <style>\n",
              "    .colab-df-container {\n",
              "      display:flex;\n",
              "      gap: 12px;\n",
              "    }\n",
              "\n",
              "    .colab-df-convert {\n",
              "      background-color: #E8F0FE;\n",
              "      border: none;\n",
              "      border-radius: 50%;\n",
              "      cursor: pointer;\n",
              "      display: none;\n",
              "      fill: #1967D2;\n",
              "      height: 32px;\n",
              "      padding: 0 0 0 0;\n",
              "      width: 32px;\n",
              "    }\n",
              "\n",
              "    .colab-df-convert:hover {\n",
              "      background-color: #E2EBFA;\n",
              "      box-shadow: 0px 1px 2px rgba(60, 64, 67, 0.3), 0px 1px 3px 1px rgba(60, 64, 67, 0.15);\n",
              "      fill: #174EA6;\n",
              "    }\n",
              "\n",
              "    .colab-df-buttons div {\n",
              "      margin-bottom: 4px;\n",
              "    }\n",
              "\n",
              "    [theme=dark] .colab-df-convert {\n",
              "      background-color: #3B4455;\n",
              "      fill: #D2E3FC;\n",
              "    }\n",
              "\n",
              "    [theme=dark] .colab-df-convert:hover {\n",
              "      background-color: #434B5C;\n",
              "      box-shadow: 0px 1px 3px 1px rgba(0, 0, 0, 0.15);\n",
              "      filter: drop-shadow(0px 1px 2px rgba(0, 0, 0, 0.3));\n",
              "      fill: #FFFFFF;\n",
              "    }\n",
              "  </style>\n",
              "\n",
              "    <script>\n",
              "      const buttonEl =\n",
              "        document.querySelector('#df-0871c670-69ff-4042-bf8c-4ed101ccaf56 button.colab-df-convert');\n",
              "      buttonEl.style.display =\n",
              "        google.colab.kernel.accessAllowed ? 'block' : 'none';\n",
              "\n",
              "      async function convertToInteractive(key) {\n",
              "        const element = document.querySelector('#df-0871c670-69ff-4042-bf8c-4ed101ccaf56');\n",
              "        const dataTable =\n",
              "          await google.colab.kernel.invokeFunction('convertToInteractive',\n",
              "                                                    [key], {});\n",
              "        if (!dataTable) return;\n",
              "\n",
              "        const docLinkHtml = 'Like what you see? Visit the ' +\n",
              "          '<a target=\"_blank\" href=https://colab.research.google.com/notebooks/data_table.ipynb>data table notebook</a>'\n",
              "          + ' to learn more about interactive tables.';\n",
              "        element.innerHTML = '';\n",
              "        dataTable['output_type'] = 'display_data';\n",
              "        await google.colab.output.renderOutput(dataTable, element);\n",
              "        const docLink = document.createElement('div');\n",
              "        docLink.innerHTML = docLinkHtml;\n",
              "        element.appendChild(docLink);\n",
              "      }\n",
              "    </script>\n",
              "  </div>\n",
              "\n",
              "\n",
              "    <div id=\"df-5dcc5096-edd7-46ed-ae67-f3cdbc873aee\">\n",
              "      <button class=\"colab-df-quickchart\" onclick=\"quickchart('df-5dcc5096-edd7-46ed-ae67-f3cdbc873aee')\"\n",
              "                title=\"Suggest charts\"\n",
              "                style=\"display:none;\">\n",
              "\n",
              "<svg xmlns=\"http://www.w3.org/2000/svg\" height=\"24px\"viewBox=\"0 0 24 24\"\n",
              "     width=\"24px\">\n",
              "    <g>\n",
              "        <path d=\"M19 3H5c-1.1 0-2 .9-2 2v14c0 1.1.9 2 2 2h14c1.1 0 2-.9 2-2V5c0-1.1-.9-2-2-2zM9 17H7v-7h2v7zm4 0h-2V7h2v10zm4 0h-2v-4h2v4z\"/>\n",
              "    </g>\n",
              "</svg>\n",
              "      </button>\n",
              "\n",
              "<style>\n",
              "  .colab-df-quickchart {\n",
              "      --bg-color: #E8F0FE;\n",
              "      --fill-color: #1967D2;\n",
              "      --hover-bg-color: #E2EBFA;\n",
              "      --hover-fill-color: #174EA6;\n",
              "      --disabled-fill-color: #AAA;\n",
              "      --disabled-bg-color: #DDD;\n",
              "  }\n",
              "\n",
              "  [theme=dark] .colab-df-quickchart {\n",
              "      --bg-color: #3B4455;\n",
              "      --fill-color: #D2E3FC;\n",
              "      --hover-bg-color: #434B5C;\n",
              "      --hover-fill-color: #FFFFFF;\n",
              "      --disabled-bg-color: #3B4455;\n",
              "      --disabled-fill-color: #666;\n",
              "  }\n",
              "\n",
              "  .colab-df-quickchart {\n",
              "    background-color: var(--bg-color);\n",
              "    border: none;\n",
              "    border-radius: 50%;\n",
              "    cursor: pointer;\n",
              "    display: none;\n",
              "    fill: var(--fill-color);\n",
              "    height: 32px;\n",
              "    padding: 0;\n",
              "    width: 32px;\n",
              "  }\n",
              "\n",
              "  .colab-df-quickchart:hover {\n",
              "    background-color: var(--hover-bg-color);\n",
              "    box-shadow: 0 1px 2px rgba(60, 64, 67, 0.3), 0 1px 3px 1px rgba(60, 64, 67, 0.15);\n",
              "    fill: var(--button-hover-fill-color);\n",
              "  }\n",
              "\n",
              "  .colab-df-quickchart-complete:disabled,\n",
              "  .colab-df-quickchart-complete:disabled:hover {\n",
              "    background-color: var(--disabled-bg-color);\n",
              "    fill: var(--disabled-fill-color);\n",
              "    box-shadow: none;\n",
              "  }\n",
              "\n",
              "  .colab-df-spinner {\n",
              "    border: 2px solid var(--fill-color);\n",
              "    border-color: transparent;\n",
              "    border-bottom-color: var(--fill-color);\n",
              "    animation:\n",
              "      spin 1s steps(1) infinite;\n",
              "  }\n",
              "\n",
              "  @keyframes spin {\n",
              "    0% {\n",
              "      border-color: transparent;\n",
              "      border-bottom-color: var(--fill-color);\n",
              "      border-left-color: var(--fill-color);\n",
              "    }\n",
              "    20% {\n",
              "      border-color: transparent;\n",
              "      border-left-color: var(--fill-color);\n",
              "      border-top-color: var(--fill-color);\n",
              "    }\n",
              "    30% {\n",
              "      border-color: transparent;\n",
              "      border-left-color: var(--fill-color);\n",
              "      border-top-color: var(--fill-color);\n",
              "      border-right-color: var(--fill-color);\n",
              "    }\n",
              "    40% {\n",
              "      border-color: transparent;\n",
              "      border-right-color: var(--fill-color);\n",
              "      border-top-color: var(--fill-color);\n",
              "    }\n",
              "    60% {\n",
              "      border-color: transparent;\n",
              "      border-right-color: var(--fill-color);\n",
              "    }\n",
              "    80% {\n",
              "      border-color: transparent;\n",
              "      border-right-color: var(--fill-color);\n",
              "      border-bottom-color: var(--fill-color);\n",
              "    }\n",
              "    90% {\n",
              "      border-color: transparent;\n",
              "      border-bottom-color: var(--fill-color);\n",
              "    }\n",
              "  }\n",
              "</style>\n",
              "\n",
              "      <script>\n",
              "        async function quickchart(key) {\n",
              "          const quickchartButtonEl =\n",
              "            document.querySelector('#' + key + ' button');\n",
              "          quickchartButtonEl.disabled = true;  // To prevent multiple clicks.\n",
              "          quickchartButtonEl.classList.add('colab-df-spinner');\n",
              "          try {\n",
              "            const charts = await google.colab.kernel.invokeFunction(\n",
              "                'suggestCharts', [key], {});\n",
              "          } catch (error) {\n",
              "            console.error('Error during call to suggestCharts:', error);\n",
              "          }\n",
              "          quickchartButtonEl.classList.remove('colab-df-spinner');\n",
              "          quickchartButtonEl.classList.add('colab-df-quickchart-complete');\n",
              "        }\n",
              "        (() => {\n",
              "          let quickchartButtonEl =\n",
              "            document.querySelector('#df-5dcc5096-edd7-46ed-ae67-f3cdbc873aee button');\n",
              "          quickchartButtonEl.style.display =\n",
              "            google.colab.kernel.accessAllowed ? 'block' : 'none';\n",
              "        })();\n",
              "      </script>\n",
              "    </div>\n",
              "\n",
              "    </div>\n",
              "  </div>\n"
            ],
            "application/vnd.google.colaboratory.intrinsic+json": {
              "type": "dataframe",
              "variable_name": "data",
              "summary": "{\n  \"name\": \"data\",\n  \"rows\": 1337,\n  \"fields\": [\n    {\n      \"column\": \"age\",\n      \"properties\": {\n        \"dtype\": \"number\",\n        \"std\": 14,\n        \"min\": 18,\n        \"max\": 64,\n        \"num_unique_values\": 47,\n        \"samples\": [\n          21,\n          45,\n          36\n        ],\n        \"semantic_type\": \"\",\n        \"description\": \"\"\n      }\n    },\n    {\n      \"column\": \"sex\",\n      \"properties\": {\n        \"dtype\": \"number\",\n        \"std\": 0,\n        \"min\": 0,\n        \"max\": 1,\n        \"num_unique_values\": 2,\n        \"samples\": [\n          0,\n          1\n        ],\n        \"semantic_type\": \"\",\n        \"description\": \"\"\n      }\n    },\n    {\n      \"column\": \"bmi\",\n      \"properties\": {\n        \"dtype\": \"number\",\n        \"std\": 6.09648425882306,\n        \"min\": 15.96,\n        \"max\": 53.13,\n        \"num_unique_values\": 549,\n        \"samples\": [\n          25.365,\n          38.285\n        ],\n        \"semantic_type\": \"\",\n        \"description\": \"\"\n      }\n    },\n    {\n      \"column\": \"children\",\n      \"properties\": {\n        \"dtype\": \"number\",\n        \"std\": 1,\n        \"min\": 0,\n        \"max\": 5,\n        \"num_unique_values\": 6,\n        \"samples\": [\n          0,\n          1\n        ],\n        \"semantic_type\": \"\",\n        \"description\": \"\"\n      }\n    },\n    {\n      \"column\": \"smoker\",\n      \"properties\": {\n        \"dtype\": \"category\",\n        \"num_unique_values\": 2,\n        \"samples\": [\n          \"no\",\n          \"yes\"\n        ],\n        \"semantic_type\": \"\",\n        \"description\": \"\"\n      }\n    },\n    {\n      \"column\": \"charges\",\n      \"properties\": {\n        \"dtype\": \"number\",\n        \"std\": 12110.359656344179,\n        \"min\": 1121.8739,\n        \"max\": 63770.42801,\n        \"num_unique_values\": 1337,\n        \"samples\": [\n          8688.85885,\n          5708.867\n        ],\n        \"semantic_type\": \"\",\n        \"description\": \"\"\n      }\n    }\n  ]\n}"
            }
          },
          "metadata": {},
          "execution_count": 17
        }
      ]
    },
    {
      "cell_type": "markdown",
      "source": [
        "Now, the 'smoker' column"
      ],
      "metadata": {
        "id": "VPqX3VdnbuYB"
      }
    },
    {
      "cell_type": "code",
      "source": [
        "#define dictionary\n",
        "smokers = {'no':0, 'yes':1}\n",
        "#replace smokers column with 0/1\n",
        "data['smoker'] = data['smoker'].apply(lambda x: smokers[x])\n",
        "#print head to verify\n",
        "data.head()"
      ],
      "metadata": {
        "colab": {
          "base_uri": "https://localhost:8080/",
          "height": 206
        },
        "id": "pmCHNis4wh-n",
        "outputId": "61ffd3b5-37ec-4dd7-ddd5-0acaecd8c5f2"
      },
      "execution_count": null,
      "outputs": [
        {
          "output_type": "execute_result",
          "data": {
            "text/plain": [
              "   age  sex     bmi  children  smoker      charges\n",
              "0   19    1  27.900         0       1  16884.92400\n",
              "1   18    0  33.770         1       0   1725.55230\n",
              "2   28    0  33.000         3       0   4449.46200\n",
              "3   33    0  22.705         0       0  21984.47061\n",
              "4   32    0  28.880         0       0   3866.85520"
            ],
            "text/html": [
              "\n",
              "  <div id=\"df-33dc155d-d110-4699-9c2d-762772d7a534\" class=\"colab-df-container\">\n",
              "    <div>\n",
              "<style scoped>\n",
              "    .dataframe tbody tr th:only-of-type {\n",
              "        vertical-align: middle;\n",
              "    }\n",
              "\n",
              "    .dataframe tbody tr th {\n",
              "        vertical-align: top;\n",
              "    }\n",
              "\n",
              "    .dataframe thead th {\n",
              "        text-align: right;\n",
              "    }\n",
              "</style>\n",
              "<table border=\"1\" class=\"dataframe\">\n",
              "  <thead>\n",
              "    <tr style=\"text-align: right;\">\n",
              "      <th></th>\n",
              "      <th>age</th>\n",
              "      <th>sex</th>\n",
              "      <th>bmi</th>\n",
              "      <th>children</th>\n",
              "      <th>smoker</th>\n",
              "      <th>charges</th>\n",
              "    </tr>\n",
              "  </thead>\n",
              "  <tbody>\n",
              "    <tr>\n",
              "      <th>0</th>\n",
              "      <td>19</td>\n",
              "      <td>1</td>\n",
              "      <td>27.900</td>\n",
              "      <td>0</td>\n",
              "      <td>1</td>\n",
              "      <td>16884.92400</td>\n",
              "    </tr>\n",
              "    <tr>\n",
              "      <th>1</th>\n",
              "      <td>18</td>\n",
              "      <td>0</td>\n",
              "      <td>33.770</td>\n",
              "      <td>1</td>\n",
              "      <td>0</td>\n",
              "      <td>1725.55230</td>\n",
              "    </tr>\n",
              "    <tr>\n",
              "      <th>2</th>\n",
              "      <td>28</td>\n",
              "      <td>0</td>\n",
              "      <td>33.000</td>\n",
              "      <td>3</td>\n",
              "      <td>0</td>\n",
              "      <td>4449.46200</td>\n",
              "    </tr>\n",
              "    <tr>\n",
              "      <th>3</th>\n",
              "      <td>33</td>\n",
              "      <td>0</td>\n",
              "      <td>22.705</td>\n",
              "      <td>0</td>\n",
              "      <td>0</td>\n",
              "      <td>21984.47061</td>\n",
              "    </tr>\n",
              "    <tr>\n",
              "      <th>4</th>\n",
              "      <td>32</td>\n",
              "      <td>0</td>\n",
              "      <td>28.880</td>\n",
              "      <td>0</td>\n",
              "      <td>0</td>\n",
              "      <td>3866.85520</td>\n",
              "    </tr>\n",
              "  </tbody>\n",
              "</table>\n",
              "</div>\n",
              "    <div class=\"colab-df-buttons\">\n",
              "\n",
              "  <div class=\"colab-df-container\">\n",
              "    <button class=\"colab-df-convert\" onclick=\"convertToInteractive('df-33dc155d-d110-4699-9c2d-762772d7a534')\"\n",
              "            title=\"Convert this dataframe to an interactive table.\"\n",
              "            style=\"display:none;\">\n",
              "\n",
              "  <svg xmlns=\"http://www.w3.org/2000/svg\" height=\"24px\" viewBox=\"0 -960 960 960\">\n",
              "    <path d=\"M120-120v-720h720v720H120Zm60-500h600v-160H180v160Zm220 220h160v-160H400v160Zm0 220h160v-160H400v160ZM180-400h160v-160H180v160Zm440 0h160v-160H620v160ZM180-180h160v-160H180v160Zm440 0h160v-160H620v160Z\"/>\n",
              "  </svg>\n",
              "    </button>\n",
              "\n",
              "  <style>\n",
              "    .colab-df-container {\n",
              "      display:flex;\n",
              "      gap: 12px;\n",
              "    }\n",
              "\n",
              "    .colab-df-convert {\n",
              "      background-color: #E8F0FE;\n",
              "      border: none;\n",
              "      border-radius: 50%;\n",
              "      cursor: pointer;\n",
              "      display: none;\n",
              "      fill: #1967D2;\n",
              "      height: 32px;\n",
              "      padding: 0 0 0 0;\n",
              "      width: 32px;\n",
              "    }\n",
              "\n",
              "    .colab-df-convert:hover {\n",
              "      background-color: #E2EBFA;\n",
              "      box-shadow: 0px 1px 2px rgba(60, 64, 67, 0.3), 0px 1px 3px 1px rgba(60, 64, 67, 0.15);\n",
              "      fill: #174EA6;\n",
              "    }\n",
              "\n",
              "    .colab-df-buttons div {\n",
              "      margin-bottom: 4px;\n",
              "    }\n",
              "\n",
              "    [theme=dark] .colab-df-convert {\n",
              "      background-color: #3B4455;\n",
              "      fill: #D2E3FC;\n",
              "    }\n",
              "\n",
              "    [theme=dark] .colab-df-convert:hover {\n",
              "      background-color: #434B5C;\n",
              "      box-shadow: 0px 1px 3px 1px rgba(0, 0, 0, 0.15);\n",
              "      filter: drop-shadow(0px 1px 2px rgba(0, 0, 0, 0.3));\n",
              "      fill: #FFFFFF;\n",
              "    }\n",
              "  </style>\n",
              "\n",
              "    <script>\n",
              "      const buttonEl =\n",
              "        document.querySelector('#df-33dc155d-d110-4699-9c2d-762772d7a534 button.colab-df-convert');\n",
              "      buttonEl.style.display =\n",
              "        google.colab.kernel.accessAllowed ? 'block' : 'none';\n",
              "\n",
              "      async function convertToInteractive(key) {\n",
              "        const element = document.querySelector('#df-33dc155d-d110-4699-9c2d-762772d7a534');\n",
              "        const dataTable =\n",
              "          await google.colab.kernel.invokeFunction('convertToInteractive',\n",
              "                                                    [key], {});\n",
              "        if (!dataTable) return;\n",
              "\n",
              "        const docLinkHtml = 'Like what you see? Visit the ' +\n",
              "          '<a target=\"_blank\" href=https://colab.research.google.com/notebooks/data_table.ipynb>data table notebook</a>'\n",
              "          + ' to learn more about interactive tables.';\n",
              "        element.innerHTML = '';\n",
              "        dataTable['output_type'] = 'display_data';\n",
              "        await google.colab.output.renderOutput(dataTable, element);\n",
              "        const docLink = document.createElement('div');\n",
              "        docLink.innerHTML = docLinkHtml;\n",
              "        element.appendChild(docLink);\n",
              "      }\n",
              "    </script>\n",
              "  </div>\n",
              "\n",
              "\n",
              "    <div id=\"df-d597fc02-a7c3-4565-a4a1-d47b55841a7f\">\n",
              "      <button class=\"colab-df-quickchart\" onclick=\"quickchart('df-d597fc02-a7c3-4565-a4a1-d47b55841a7f')\"\n",
              "                title=\"Suggest charts\"\n",
              "                style=\"display:none;\">\n",
              "\n",
              "<svg xmlns=\"http://www.w3.org/2000/svg\" height=\"24px\"viewBox=\"0 0 24 24\"\n",
              "     width=\"24px\">\n",
              "    <g>\n",
              "        <path d=\"M19 3H5c-1.1 0-2 .9-2 2v14c0 1.1.9 2 2 2h14c1.1 0 2-.9 2-2V5c0-1.1-.9-2-2-2zM9 17H7v-7h2v7zm4 0h-2V7h2v10zm4 0h-2v-4h2v4z\"/>\n",
              "    </g>\n",
              "</svg>\n",
              "      </button>\n",
              "\n",
              "<style>\n",
              "  .colab-df-quickchart {\n",
              "      --bg-color: #E8F0FE;\n",
              "      --fill-color: #1967D2;\n",
              "      --hover-bg-color: #E2EBFA;\n",
              "      --hover-fill-color: #174EA6;\n",
              "      --disabled-fill-color: #AAA;\n",
              "      --disabled-bg-color: #DDD;\n",
              "  }\n",
              "\n",
              "  [theme=dark] .colab-df-quickchart {\n",
              "      --bg-color: #3B4455;\n",
              "      --fill-color: #D2E3FC;\n",
              "      --hover-bg-color: #434B5C;\n",
              "      --hover-fill-color: #FFFFFF;\n",
              "      --disabled-bg-color: #3B4455;\n",
              "      --disabled-fill-color: #666;\n",
              "  }\n",
              "\n",
              "  .colab-df-quickchart {\n",
              "    background-color: var(--bg-color);\n",
              "    border: none;\n",
              "    border-radius: 50%;\n",
              "    cursor: pointer;\n",
              "    display: none;\n",
              "    fill: var(--fill-color);\n",
              "    height: 32px;\n",
              "    padding: 0;\n",
              "    width: 32px;\n",
              "  }\n",
              "\n",
              "  .colab-df-quickchart:hover {\n",
              "    background-color: var(--hover-bg-color);\n",
              "    box-shadow: 0 1px 2px rgba(60, 64, 67, 0.3), 0 1px 3px 1px rgba(60, 64, 67, 0.15);\n",
              "    fill: var(--button-hover-fill-color);\n",
              "  }\n",
              "\n",
              "  .colab-df-quickchart-complete:disabled,\n",
              "  .colab-df-quickchart-complete:disabled:hover {\n",
              "    background-color: var(--disabled-bg-color);\n",
              "    fill: var(--disabled-fill-color);\n",
              "    box-shadow: none;\n",
              "  }\n",
              "\n",
              "  .colab-df-spinner {\n",
              "    border: 2px solid var(--fill-color);\n",
              "    border-color: transparent;\n",
              "    border-bottom-color: var(--fill-color);\n",
              "    animation:\n",
              "      spin 1s steps(1) infinite;\n",
              "  }\n",
              "\n",
              "  @keyframes spin {\n",
              "    0% {\n",
              "      border-color: transparent;\n",
              "      border-bottom-color: var(--fill-color);\n",
              "      border-left-color: var(--fill-color);\n",
              "    }\n",
              "    20% {\n",
              "      border-color: transparent;\n",
              "      border-left-color: var(--fill-color);\n",
              "      border-top-color: var(--fill-color);\n",
              "    }\n",
              "    30% {\n",
              "      border-color: transparent;\n",
              "      border-left-color: var(--fill-color);\n",
              "      border-top-color: var(--fill-color);\n",
              "      border-right-color: var(--fill-color);\n",
              "    }\n",
              "    40% {\n",
              "      border-color: transparent;\n",
              "      border-right-color: var(--fill-color);\n",
              "      border-top-color: var(--fill-color);\n",
              "    }\n",
              "    60% {\n",
              "      border-color: transparent;\n",
              "      border-right-color: var(--fill-color);\n",
              "    }\n",
              "    80% {\n",
              "      border-color: transparent;\n",
              "      border-right-color: var(--fill-color);\n",
              "      border-bottom-color: var(--fill-color);\n",
              "    }\n",
              "    90% {\n",
              "      border-color: transparent;\n",
              "      border-bottom-color: var(--fill-color);\n",
              "    }\n",
              "  }\n",
              "</style>\n",
              "\n",
              "      <script>\n",
              "        async function quickchart(key) {\n",
              "          const quickchartButtonEl =\n",
              "            document.querySelector('#' + key + ' button');\n",
              "          quickchartButtonEl.disabled = true;  // To prevent multiple clicks.\n",
              "          quickchartButtonEl.classList.add('colab-df-spinner');\n",
              "          try {\n",
              "            const charts = await google.colab.kernel.invokeFunction(\n",
              "                'suggestCharts', [key], {});\n",
              "          } catch (error) {\n",
              "            console.error('Error during call to suggestCharts:', error);\n",
              "          }\n",
              "          quickchartButtonEl.classList.remove('colab-df-spinner');\n",
              "          quickchartButtonEl.classList.add('colab-df-quickchart-complete');\n",
              "        }\n",
              "        (() => {\n",
              "          let quickchartButtonEl =\n",
              "            document.querySelector('#df-d597fc02-a7c3-4565-a4a1-d47b55841a7f button');\n",
              "          quickchartButtonEl.style.display =\n",
              "            google.colab.kernel.accessAllowed ? 'block' : 'none';\n",
              "        })();\n",
              "      </script>\n",
              "    </div>\n",
              "\n",
              "    </div>\n",
              "  </div>\n"
            ],
            "application/vnd.google.colaboratory.intrinsic+json": {
              "type": "dataframe",
              "variable_name": "data",
              "summary": "{\n  \"name\": \"data\",\n  \"rows\": 1337,\n  \"fields\": [\n    {\n      \"column\": \"age\",\n      \"properties\": {\n        \"dtype\": \"number\",\n        \"std\": 14,\n        \"min\": 18,\n        \"max\": 64,\n        \"num_unique_values\": 47,\n        \"samples\": [\n          21,\n          45,\n          36\n        ],\n        \"semantic_type\": \"\",\n        \"description\": \"\"\n      }\n    },\n    {\n      \"column\": \"sex\",\n      \"properties\": {\n        \"dtype\": \"number\",\n        \"std\": 0,\n        \"min\": 0,\n        \"max\": 1,\n        \"num_unique_values\": 2,\n        \"samples\": [\n          0,\n          1\n        ],\n        \"semantic_type\": \"\",\n        \"description\": \"\"\n      }\n    },\n    {\n      \"column\": \"bmi\",\n      \"properties\": {\n        \"dtype\": \"number\",\n        \"std\": 6.09648425882306,\n        \"min\": 15.96,\n        \"max\": 53.13,\n        \"num_unique_values\": 549,\n        \"samples\": [\n          25.365,\n          38.285\n        ],\n        \"semantic_type\": \"\",\n        \"description\": \"\"\n      }\n    },\n    {\n      \"column\": \"children\",\n      \"properties\": {\n        \"dtype\": \"number\",\n        \"std\": 1,\n        \"min\": 0,\n        \"max\": 5,\n        \"num_unique_values\": 6,\n        \"samples\": [\n          0,\n          1\n        ],\n        \"semantic_type\": \"\",\n        \"description\": \"\"\n      }\n    },\n    {\n      \"column\": \"smoker\",\n      \"properties\": {\n        \"dtype\": \"number\",\n        \"std\": 0,\n        \"min\": 0,\n        \"max\": 1,\n        \"num_unique_values\": 2,\n        \"samples\": [\n          0,\n          1\n        ],\n        \"semantic_type\": \"\",\n        \"description\": \"\"\n      }\n    },\n    {\n      \"column\": \"charges\",\n      \"properties\": {\n        \"dtype\": \"number\",\n        \"std\": 12110.359656344179,\n        \"min\": 1121.8739,\n        \"max\": 63770.42801,\n        \"num_unique_values\": 1337,\n        \"samples\": [\n          8688.85885,\n          5708.867\n        ],\n        \"semantic_type\": \"\",\n        \"description\": \"\"\n      }\n    }\n  ]\n}"
            }
          },
          "metadata": {},
          "execution_count": 18
        }
      ]
    },
    {
      "cell_type": "markdown",
      "source": [
        "**Correlation Heatmap**"
      ],
      "metadata": {
        "id": "j2CRXS5RRIT-"
      }
    },
    {
      "cell_type": "code",
      "source": [
        "plt.figure(figsize=(10,6))\n",
        "sns.heatmap(data.corr(), annot=True, cmap='coolwarm')\n",
        "plt.title('Feature Correlation Matrix')\n",
        "plt.show()"
      ],
      "metadata": {
        "colab": {
          "base_uri": "https://localhost:8080/",
          "height": 545
        },
        "id": "dxfLH9QjRKW0",
        "outputId": "4b7c37a1-2558-4d50-bcc4-ec2a6b371d5d"
      },
      "execution_count": null,
      "outputs": [
        {
          "output_type": "display_data",
          "data": {
            "text/plain": [
              "<Figure size 1000x600 with 2 Axes>"
            ],
            "image/png": "[encoded data removed]"
          },
          "metadata": {}
        }
      ]
    },
    {
      "cell_type": "markdown",
      "source": [
        "Smoker is strongly correlated with charges (correlation = 0.79), indicating that smoking significantly affects medical costs.\n",
        "\n",
        "Age and bmi also show moderate positive correlations with charges, while other features have weak correlations."
      ],
      "metadata": {
        "id": "_SgngezgRXVn"
      }
    },
    {
      "cell_type": "markdown",
      "source": [
        "## 4. Model Training & Testing"
      ],
      "metadata": {
        "id": "qjtflaTqyJiM"
      }
    },
    {
      "cell_type": "markdown",
      "source": [
        "#Part I - Predicting Medical Charges\n",
        "\n",
        "#Version 1-  Using Gradient Descent (from scratch)"
      ],
      "metadata": {
        "id": "01PtAq_yyjcP"
      }
    },
    {
      "cell_type": "markdown",
      "source": [
        "*Loops Version*"
      ],
      "metadata": {
        "id": "-_qIoujDQ8dO"
      }
    },
    {
      "cell_type": "code",
      "source": [
        "def Gradient_descent_multi(x, y, learning_rate, nb_iterations, initial_a0, initial_a1):\n",
        "    n = x.shape[0]\n",
        "    a0 = initial_a0\n",
        "    a1 = initial_a1.copy()\n",
        "\n",
        "    for i in range(nb_iterations):\n",
        "        y_pred = x.dot(a1) + a0\n",
        "        error = y - y_pred\n",
        "\n",
        "        a0_der = -2 * np.sum(error) / n\n",
        "        a1_der = -2 * x.T.dot(error) / n\n",
        "\n",
        "        a0 -= learning_rate * a0_der\n",
        "        a1 -= learning_rate * a1_der\n",
        "\n",
        "    return a0, a1\n"
      ],
      "metadata": {
        "id": "ip-VPeBuyeL0"
      },
      "execution_count": null,
      "outputs": []
    },
    {
      "cell_type": "markdown",
      "source": [
        "Prepare full features dataset"
      ],
      "metadata": {
        "id": "LRfK-aQs-E2T"
      }
    },
    {
      "cell_type": "code",
      "source": [
        "#Features: all except 'charges' which is our target here\n",
        "X = data.drop(columns=['charges'])\n",
        "y = data['charges'].values.reshape(-1, 1)\n",
        "\n",
        "#Normalize\n",
        "from sklearn.preprocessing import StandardScaler\n",
        "scaler = StandardScaler()\n",
        "X_scaled = scaler.fit_transform(X)"
      ],
      "metadata": {
        "id": "QWomM84p9avD"
      },
      "execution_count": null,
      "outputs": []
    },
    {
      "cell_type": "markdown",
      "source": [
        "Train the model"
      ],
      "metadata": {
        "id": "DL46gMpQ-Jm_"
      }
    },
    {
      "cell_type": "code",
      "source": [
        "from sklearn.model_selection import train_test_split\n",
        "\n",
        "x_train, x_test, y_train, y_test = train_test_split(X_scaled, y, test_size=0.2, random_state=42)\n",
        "\n",
        "initial_a0 = 0\n",
        "initial_a1 = np.zeros((x_train.shape[1], 1))\n",
        "learning_rate = 0.01\n",
        "iterations = 1000\n",
        "\n",
        "a0, a1 = Gradient_descent_multi(x_train, y_train, learning_rate, iterations, initial_a0, initial_a1)\n"
      ],
      "metadata": {
        "id": "0_oEQa4A9rVX"
      },
      "execution_count": null,
      "outputs": []
    },
    {
      "cell_type": "markdown",
      "source": [
        "Model Evaluation"
      ],
      "metadata": {
        "id": "d3lbkix9-O1e"
      }
    },
    {
      "cell_type": "code",
      "source": [
        "y_pred = x_test.dot(a1) + a0\n",
        "\n",
        "from sklearn.metrics import mean_squared_error, r2_score, mean_absolute_error\n",
        "print(\"MSE:\", mean_squared_error(y_test, y_pred))\n",
        "print(\"MAE:\", mean_absolute_error(y_test, y_pred))\n",
        "print(\"R² Score:\", r2_score(y_test, y_pred))"
      ],
      "metadata": {
        "colab": {
          "base_uri": "https://localhost:8080/"
        },
        "id": "q5eatYef9v-I",
        "outputId": "6cf41bce-ec66-4639-f5a2-7e3ecfb9f333"
      },
      "execution_count": null,
      "outputs": [
        {
          "output_type": "stream",
          "name": "stdout",
          "text": [
            "MSE: 35892261.990519114\n",
            "MAE: 4197.098423914902\n",
            "R² Score: 0.8046744080103319\n"
          ]
        }
      ]
    },
    {
      "cell_type": "markdown",
      "source": [
        "Print Learning Equation"
      ],
      "metadata": {
        "id": "lJLhlZACrgu-"
      }
    },
    {
      "cell_type": "code",
      "source": [
        "print(f\"charges = {a0:.4f}\", end=\"\")\n",
        "\n",
        "for i, name in enumerate(X):\n",
        "    coef = a1[i][0]\n",
        "    print(f\" + ({coef:.4f} * {name})\", end=\"\")\n",
        "#This is our learned model in equation form using normalized data"
      ],
      "metadata": {
        "colab": {
          "base_uri": "https://localhost:8080/"
        },
        "id": "XCDgsaRT99gt",
        "outputId": "93468095-135d-4fc7-e902-4a15c4796abe"
      },
      "execution_count": null,
      "outputs": [
        {
          "output_type": "stream",
          "name": "stdout",
          "text": [
            "charges = 13190.0811 + (3499.7538 * age) + (41.9864 * sex) + (1865.6212 * bmi) + (647.6162 * children) + (9304.6479 * smoker)"
          ]
        }
      ]
    },
    {
      "cell_type": "markdown",
      "source": [
        "##Visualize what was done by Gradient Descent\n"
      ],
      "metadata": {
        "id": "RMq7y238AmtA"
      }
    },
    {
      "cell_type": "code",
      "source": [
        "plt.scatter(y_test, y_pred, alpha=0.5)\n",
        "plt.xlabel(\"Actual Charges\")\n",
        "plt.ylabel(\"Predicted Charges (Gradient Descent)\")\n",
        "plt.title(\"Actual vs Predicted Charges\")\n",
        "plt.grid(True)\n",
        "plt.show()"
      ],
      "metadata": {
        "colab": {
          "base_uri": "https://localhost:8080/",
          "height": 472
        },
        "id": "B8sG0O-k_2d7",
        "outputId": "99bfa1ed-3d19-4369-c7ca-798b6b6f27d7"
      },
      "execution_count": null,
      "outputs": [
        {
          "output_type": "display_data",
          "data": {
            "text/plain": [
              "<Figure size 640x480 with 1 Axes>"
            ],
            "image/png": "[encoded data removed]"
          },
          "metadata": {}
        }
      ]
    },
    {
      "cell_type": "markdown",
      "source": [
        "*Fully vectorized approach*"
      ],
      "metadata": {
        "id": "PC_P-XcORYkz"
      }
    },
    {
      "cell_type": "code",
      "source": [
        "def Gradient_descent_multi_vectorized(X, y, learning_rate, nb_iterations, initial_a0, initial_a1):\n",
        "    n = X.shape[0]\n",
        "    a0 = 0\n",
        "    a1 = np.zeros((X.shape[1], 1))\n",
        "\n",
        "    for j in range(nb_iterations):\n",
        "        y_pred = np.dot(X, a1) + a0\n",
        "        error = y - y_pred\n",
        "\n",
        "        gradients = (-2 / n) * np.dot(X.T, error)\n",
        "        bias_gradient = (-2 / n) * np.sum(error)\n",
        "\n",
        "        a1 -= learning_rate * gradients\n",
        "        a0 -= learning_rate * bias_gradient\n",
        "\n",
        "    return a0, a1\n"
      ],
      "metadata": {
        "id": "8z8P_fgPRe6t"
      },
      "execution_count": null,
      "outputs": []
    },
    {
      "cell_type": "code",
      "source": [
        "#Prepare full dataset\n",
        "#Features: all except 'charges' which is our target here\n",
        "X = data.drop(columns=['charges'])\n",
        "y = data['charges'].values.reshape(-1, 1)\n",
        "\n",
        "#Normalize\n",
        "from sklearn.preprocessing import StandardScaler\n",
        "scaler = StandardScaler()\n",
        "X_scaled = scaler.fit_transform(X)"
      ],
      "metadata": {
        "id": "Mn16J1uJRj5r"
      },
      "execution_count": null,
      "outputs": []
    },
    {
      "cell_type": "code",
      "source": [
        "#Train the model\n",
        "from sklearn.model_selection import train_test_split\n",
        "\n",
        "x_train, x_test, y_train, y_test = train_test_split(X_scaled, y, test_size=0.2, random_state=42)\n",
        "\n",
        "initial_a0 = 0\n",
        "initial_a1 = np.zeros((x_train.shape[1], 1))\n",
        "learning_rate = 0.01\n",
        "iterations = 1000\n",
        "\n",
        "a0, a1 = Gradient_descent_multi_vectorized(x_train, y_train, learning_rate, iterations, initial_a0, initial_a1)\n"
      ],
      "metadata": {
        "id": "OxNk-OGuRm8g"
      },
      "execution_count": null,
      "outputs": []
    },
    {
      "cell_type": "code",
      "source": [
        "#model evaluation\n",
        "y_pred = np.dot(x_test, a1) + a0\n",
        "\n",
        "from sklearn.metrics import mean_squared_error, r2_score, mean_absolute_error\n",
        "print(\"MSE:\", mean_squared_error(y_test, y_pred))\n",
        "print(\"MAE:\", mean_absolute_error(y_test, y_pred))\n",
        "print(\"R² Score:\", r2_score(y_test, y_pred))"
      ],
      "metadata": {
        "colab": {
          "base_uri": "https://localhost:8080/"
        },
        "id": "WtsYlHgSRp9D",
        "outputId": "986ce1dd-b230-49a8-8e14-1f2d36dba631"
      },
      "execution_count": null,
      "outputs": [
        {
          "output_type": "stream",
          "name": "stdout",
          "text": [
            "MSE: 35892261.990519114\n",
            "MAE: 4197.098423914902\n",
            "R² Score: 0.8046744080103319\n"
          ]
        }
      ]
    },
    {
      "cell_type": "code",
      "source": [
        "#print the Learning Equation\n",
        "print(f\"charges = {a0:.4f}\", end=\"\")\n",
        "\n",
        "for i, name in enumerate(X):\n",
        "    coef = a1[i][0]\n",
        "    print(f\" + ({coef:.4f} * {name})\", end=\"\")\n",
        "#This is our learned model in equation form using normalized data"
      ],
      "metadata": {
        "colab": {
          "base_uri": "https://localhost:8080/"
        },
        "id": "TrB21Su3Rtex",
        "outputId": "1c3a7b0d-ddb8-49ca-bd6a-7764a4f9446e"
      },
      "execution_count": null,
      "outputs": [
        {
          "output_type": "stream",
          "name": "stdout",
          "text": [
            "charges = 13190.0811 + (3499.7538 * age) + (41.9864 * sex) + (1865.6212 * bmi) + (647.6162 * children) + (9304.6479 * smoker)"
          ]
        }
      ]
    },
    {
      "cell_type": "markdown",
      "source": [
        "#Version 2- Using the scikit-learn’s model"
      ],
      "metadata": {
        "id": "6axwRmabdPtN"
      }
    },
    {
      "cell_type": "markdown",
      "source": [
        "#### Data splits\n",
        "\n",
        "Before training, we need to split data into training (80%) & testing (20%)"
      ],
      "metadata": {
        "id": "dE-yK2s6yOb2"
      }
    },
    {
      "cell_type": "code",
      "source": [
        "#split dataset in a 80/20 split\n",
        "x_train, x_test, y_train, y_test = train_test_split(X_scaled, y, test_size=0.2, random_state=42)"
      ],
      "metadata": {
        "id": "B7iFfifKyEP1"
      },
      "execution_count": null,
      "outputs": []
    },
    {
      "cell_type": "markdown",
      "source": [
        "#### Linear Regression Modeling"
      ],
      "metadata": {
        "id": "Kk-qm_Itc7UC"
      }
    },
    {
      "cell_type": "code",
      "source": [
        "#define our regression model\n",
        "model = LinearRegression()\n",
        "\n",
        "#train our model\n",
        "model.fit(x_train, y_train)\n",
        "print('Model trained!')"
      ],
      "metadata": {
        "id": "HJx21_jZwttW",
        "colab": {
          "base_uri": "https://localhost:8080/"
        },
        "outputId": "ca40c13a-6087-447f-f13c-eb30cddc66b9"
      },
      "execution_count": null,
      "outputs": [
        {
          "output_type": "stream",
          "name": "stdout",
          "text": [
            "Model trained!\n"
          ]
        }
      ]
    },
    {
      "cell_type": "markdown",
      "source": [
        "#### Evaluation"
      ],
      "metadata": {
        "id": "Wq-UUjxddBu9"
      }
    },
    {
      "cell_type": "code",
      "source": [
        "from sklearn.metrics import mean_squared_error, r2_score, mean_absolute_error\n",
        "\n",
        "#Make predictions on the test set\n",
        "y_pred = model.predict(x_test)\n",
        "print(f'Model score (R²): {model.score(x_test, y_test):.4f}')\n",
        "print(f'MAE:{mean_absolute_error(y_test, y_pred): .4f}')\n",
        "print(f'MSE: {mean_squared_error(y_test, y_pred):.4f}')"
      ],
      "metadata": {
        "colab": {
          "base_uri": "https://localhost:8080/"
        },
        "id": "lTnTNKOghLZj",
        "outputId": "52a032ae-3625-4838-cdcc-d9862b8fef53"
      },
      "execution_count": null,
      "outputs": [
        {
          "output_type": "stream",
          "name": "stdout",
          "text": [
            "Model score (R²): 0.8047\n",
            "MAE: 4197.0984\n",
            "MSE: 35892261.5657\n"
          ]
        }
      ]
    },
    {
      "cell_type": "code",
      "source": [
        "#Residuals\n",
        "plt.subplot(1, 2, 1)\n",
        "residuals = y_test - y_pred\n",
        "sns.histplot(residuals, kde=True)\n",
        "plt.title('Scikit-learn’s model')\n",
        "plt.tight_layout()\n",
        "plt.show()"
      ],
      "metadata": {
        "colab": {
          "base_uri": "https://localhost:8080/",
          "height": 487
        },
        "id": "4D2BQOG_OsIU",
        "outputId": "2d9ac730-2267-44d8-85bf-f607737b8702"
      },
      "execution_count": null,
      "outputs": [
        {
          "output_type": "display_data",
          "data": {
            "text/plain": [
              "<Figure size 640x480 with 1 Axes>"
            ],
            "image/png": "[encoded data removed]"
          },
          "metadata": {}
        }
      ]
    },
    {
      "cell_type": "markdown",
      "source": [
        "The error distribution of the model is approximately centered around zero, indicating a good overall fit.\n",
        "\n",
        "Most predictions cluster closely to the true values, with relatively few extreme errors, supporting the model’s effectiveness and the R² of 0.8047."
      ],
      "metadata": {
        "id": "2ao6p-WBSZ6F"
      }
    },
    {
      "cell_type": "markdown",
      "source": [
        "### - Reflection on Part I -\n",
        "Both the gradient descent implementation and the scikit-learn model achieved an R² score of 0.8047, indicating that about 80.47% of the variance in medical charges can be explained by the available features.\n",
        "\n",
        "\n",
        "The  MSE (approximately = 35 million) confirms that our gradient descent implementation was correct and performs just as well as the optimized scikit-learn version.\n",
        "\n",
        "However, the scikit-learn version was simpler, faster, and more efficient, highlighting the benefits of using built-in libraries for real-world tasks.\n",
        "\n"
      ],
      "metadata": {
        "id": "XiJLEuwjCuYk"
      }
    },
    {
      "cell_type": "markdown",
      "source": [
        "# Part II - Predicting Smoker Status\n",
        "\n",
        "#Version 1-  Using Gradient Descent (from scratch)\n",
        "\n"
      ],
      "metadata": {
        "id": "C7K0m1m2DOmW"
      }
    },
    {
      "cell_type": "code",
      "source": [
        "data_classification = data.copy()"
      ],
      "metadata": {
        "id": "bVbvp0fOXO_X"
      },
      "execution_count": null,
      "outputs": []
    },
    {
      "cell_type": "code",
      "source": [
        "#remove the outliers using IQR method\n",
        "for col in numeric_cols:\n",
        "    Q1 = data_classification[col].quantile(0.25)\n",
        "    Q3 = data_classification[col].quantile(0.75)\n",
        "    IQR = Q3 - Q1\n",
        "    lower = Q1 - 1.5 * IQR\n",
        "    upper = Q3 + 1.5 * IQR\n",
        "    data_classification = data_classification[(data_classification[col] >= lower) & (data_classification[col] <= upper)]\n",
        "\n",
        "print(\"Outliers removed for smoker classification.\")"
      ],
      "metadata": {
        "id": "zbeuRnMUVh6N",
        "colab": {
          "base_uri": "https://localhost:8080/"
        },
        "outputId": "36e07001-b644-487f-e226-22e33ce8c5f8"
      },
      "execution_count": null,
      "outputs": [
        {
          "output_type": "stream",
          "name": "stdout",
          "text": [
            "Outliers removed for smoker classification.\n"
          ]
        }
      ]
    },
    {
      "cell_type": "code",
      "source": [
        "print(\"Remaining rows after outlier removal:\", data_classification.shape[0]) #double check"
      ],
      "metadata": {
        "id": "_27wOnaKVgmN",
        "colab": {
          "base_uri": "https://localhost:8080/"
        },
        "outputId": "b8efe205-9fbf-426a-8716-d65594cc41b9"
      },
      "execution_count": null,
      "outputs": [
        {
          "output_type": "stream",
          "name": "stdout",
          "text": [
            "Remaining rows after outlier removal: 1190\n"
          ]
        }
      ]
    },
    {
      "cell_type": "markdown",
      "source": [
        "Prepare features and target"
      ],
      "metadata": {
        "id": "r8gHJGpWlud4"
      }
    },
    {
      "cell_type": "code",
      "source": [
        "#Go back to raw features (no X_scaled reuse)\n",
        "X_df = data_classification.drop(columns=['smoker'])  #this is a DataFrame unscaled features\n",
        "X = X_df.values  #and this becomes a NumPy array our actual input\n",
        "y = data_classification['smoker'].values.astype(int) #target variable - binary classification"
      ],
      "metadata": {
        "id": "EKIAgeGvFOOt"
      },
      "execution_count": null,
      "outputs": []
    },
    {
      "cell_type": "markdown",
      "source": [
        "Train / Test Split"
      ],
      "metadata": {
        "id": "KOsWOgMKukAS"
      }
    },
    {
      "cell_type": "code",
      "source": [
        "from sklearn.model_selection import train_test_split\n",
        "X_train_raw, X_test_raw, y_train, y_test = train_test_split(X_df, y, test_size=0.2, random_state=42)"
      ],
      "metadata": {
        "id": "HXas2RqFuhu3"
      },
      "execution_count": null,
      "outputs": []
    },
    {
      "cell_type": "markdown",
      "source": [
        "Apply scaling ONLY on training and testing separately"
      ],
      "metadata": {
        "id": "dyNoQnqNyXk1"
      }
    },
    {
      "cell_type": "code",
      "source": [
        "#scale each set separately\n",
        "from sklearn.preprocessing import StandardScaler\n",
        "scaler = StandardScaler()\n",
        "x_train = scaler.fit_transform(X_train_raw)\n",
        "x_test = scaler.transform(X_test_raw)"
      ],
      "metadata": {
        "id": "RHNy3l5fxkss"
      },
      "execution_count": null,
      "outputs": []
    },
    {
      "cell_type": "markdown",
      "source": [
        "Sigmoid and Gradient Descent function"
      ],
      "metadata": {
        "id": "ZWR-wg94l7IB"
      }
    },
    {
      "cell_type": "code",
      "source": [
        "import numpy as np\n",
        "import matplotlib.pyplot as plt"
      ],
      "metadata": {
        "id": "7C8YPjdaEF9v"
      },
      "execution_count": null,
      "outputs": []
    },
    {
      "cell_type": "code",
      "source": [
        "def sigmoid(v):\n",
        "  return 1/(1+np.exp(-v))"
      ],
      "metadata": {
        "id": "uGwwQdCCEHaj"
      },
      "execution_count": null,
      "outputs": []
    },
    {
      "cell_type": "code",
      "source": [
        "x = np.arange(-10,10,0.1)\n",
        "y = sigmoid (x)\n",
        "plt.plot(x,y)"
      ],
      "metadata": {
        "colab": {
          "base_uri": "https://localhost:8080/",
          "height": 447
        },
        "id": "P9dFjj3MENUd",
        "outputId": "e8f81c65-f7ba-47ad-cef0-30f8f9818ca3"
      },
      "execution_count": null,
      "outputs": [
        {
          "output_type": "execute_result",
          "data": {
            "text/plain": [
              "[<matplotlib.lines.Line2D at 0x780f427e1b90>]"
            ]
          },
          "metadata": {},
          "execution_count": 43
        },
        {
          "output_type": "display_data",
          "data": {
            "text/plain": [
              "<Figure size 640x480 with 1 Axes>"
            ],
            "image/png": "[encoded data removed]"
          },
          "metadata": {}
        }
      ]
    },
    {
      "cell_type": "markdown",
      "source": [
        "*Loops version*"
      ],
      "metadata": {
        "id": "lQ7FVpojSmkC"
      }
    },
    {
      "cell_type": "code",
      "source": [
        "def Gradient_descent_logistic_weighted(x, y, learning_rate, nb_iterations, initial_a0, initial_a1): #with class weights since imbalanced data\n",
        "    n = x.shape[0]\n",
        "    a0 = initial_a0\n",
        "    a1 = initial_a1.copy()\n",
        "\n",
        "    #Compute class weights\n",
        "    n_positive = np.sum(y == 1)\n",
        "    n_negative = np.sum(y == 0)\n",
        "    w_pos = n / (2 * n_positive)\n",
        "    w_neg = n / (2 * n_negative)\n",
        "\n",
        "    for i in range(nb_iterations):\n",
        "        z = x.dot(a1) + a0\n",
        "        y_pred = sigmoid(z)\n",
        "        error = y.reshape(-1, 1) - y_pred\n",
        "\n",
        "        weights = np.where(y.reshape(-1, 1) == 1, w_pos, w_neg)\n",
        "        weighted_error = weights * error\n",
        "\n",
        "        a0_der = -np.sum(weighted_error) / n\n",
        "        a1_der = -x.T.dot(weighted_error) / n\n",
        "\n",
        "        a0 -= learning_rate * a0_der\n",
        "        a1 -= learning_rate * a1_der\n",
        "\n",
        "    return a0, a1"
      ],
      "metadata": {
        "id": "reBbrAnmEPSj"
      },
      "execution_count": null,
      "outputs": []
    },
    {
      "cell_type": "markdown",
      "source": [
        "Model Training"
      ],
      "metadata": {
        "id": "ZdiGQWcpmGBo"
      }
    },
    {
      "cell_type": "code",
      "source": [
        "#Initialize parameters\n",
        "initial_a0 = 0\n",
        "initial_a1 = np.zeros((x_train.shape[1], 1))\n",
        "learning_rate = 0.1\n",
        "iterations = 1000\n",
        "\n",
        "#Fit model\n",
        "a0, a1 = Gradient_descent_logistic_weighted(x_train, y_train, learning_rate, iterations, initial_a0, initial_a1)\n"
      ],
      "metadata": {
        "id": "AkcEz8HREgqx"
      },
      "execution_count": null,
      "outputs": []
    },
    {
      "cell_type": "markdown",
      "source": [
        "Predict and format output"
      ],
      "metadata": {
        "id": "sN7I0aAmuwKA"
      }
    },
    {
      "cell_type": "code",
      "source": [
        "y_pred_probs = sigmoid(x_test.dot(a1) + a0)\n",
        "y_pred = (y_pred_probs >= 0.5).astype(int).flatten()"
      ],
      "metadata": {
        "id": "TBMzE_q7ux64"
      },
      "execution_count": null,
      "outputs": []
    },
    {
      "cell_type": "markdown",
      "source": [
        "Print the learned equation"
      ],
      "metadata": {
        "id": "DTqB6ECjmcJl"
      }
    },
    {
      "cell_type": "code",
      "source": [
        "feature_names = X_df.columns.tolist()\n",
        "print(\"Logistic Regression Equation:\\n\")\n",
        "equation = f\"sigmoid({a0:.4f}\"\n",
        "for i, coef in enumerate(a1[:len(feature_names)]):\n",
        "    equation += f\" + ({coef[0]:.4f} * {feature_names[i]})\"\n",
        "equation += \")\"\n",
        "print(equation)"
      ],
      "metadata": {
        "id": "kVQkUfnvk73A",
        "colab": {
          "base_uri": "https://localhost:8080/"
        },
        "outputId": "acac3b22-c303-493c-cff9-588338478d63"
      },
      "execution_count": null,
      "outputs": [
        {
          "output_type": "stream",
          "name": "stdout",
          "text": [
            "Logistic Regression Equation:\n",
            "\n",
            "sigmoid(-2.8027 + (-1.3160 * age) + (-0.1210 * sex) + (-1.3105 * bmi) + (-0.2346 * children) + (2.7891 * charges))\n"
          ]
        }
      ]
    },
    {
      "cell_type": "markdown",
      "source": [
        "Flatten"
      ],
      "metadata": {
        "id": "3p8lJ6Npu541"
      }
    },
    {
      "cell_type": "code",
      "source": [
        "y_test_flat = y_test.flatten()\n",
        "y_pred_flat = y_pred.flatten()"
      ],
      "metadata": {
        "id": "Ernu4BQ8u-YR"
      },
      "execution_count": null,
      "outputs": []
    },
    {
      "cell_type": "markdown",
      "source": [
        "Model Evaluation metrics"
      ],
      "metadata": {
        "id": "q24uVwVG2yFz"
      }
    },
    {
      "cell_type": "code",
      "source": [
        "from sklearn.metrics import accuracy_score, precision_score, recall_score, f1_score, confusion_matrix, classification_report\n",
        "#Basic metrics\n",
        "\n",
        "print(\"Accuracy:\", accuracy_score(y_test_flat, y_pred_flat))\n",
        "print(\"Precision:\", precision_score(y_test_flat, y_pred_flat))\n",
        "print(\"Recall:\", recall_score(y_test_flat, y_pred_flat))\n",
        "print(\"F1 Score:\", f1_score(y_test_flat, y_pred_flat))"
      ],
      "metadata": {
        "colab": {
          "base_uri": "https://localhost:8080/"
        },
        "id": "ll6e1E1-LzYz",
        "outputId": "ec27555f-1092-4306-ef92-5f106c576543"
      },
      "execution_count": null,
      "outputs": [
        {
          "output_type": "stream",
          "name": "stdout",
          "text": [
            "Accuracy: 0.9411764705882353\n",
            "Precision: 0.6666666666666666\n",
            "Recall: 1.0\n",
            "F1 Score: 0.8\n"
          ]
        }
      ]
    },
    {
      "cell_type": "markdown",
      "source": [
        "When testing both approaches: Keeping outliers and removing them we saw that:\n",
        "\n",
        "Removing outliers led to 94.1% accuracy, 66% precision, and 100% recall, with a strong f1-score of 0.8.\n",
        "\n",
        "Keeping outliers dropped performance to 53% accuracy, 22% precision, 45% recall, and f1-score of 0.3.\n",
        "\n",
        "This shows that removing outliers improved model performance, likely by eliminating noise that confused the classifier.\n"
      ],
      "metadata": {
        "id": "EhNb9zW5Z1rC"
      }
    },
    {
      "cell_type": "markdown",
      "source": [
        "Confusion metrics and other metrics"
      ],
      "metadata": {
        "id": "Z6-eADHEvWw7"
      }
    },
    {
      "cell_type": "code",
      "source": [
        "#Confusion Matrix\n",
        "cm = confusion_matrix(y_test_flat, y_pred_flat)\n",
        "print(\"\\nConfusion Matrix:\")\n",
        "print(cm)\n",
        "\n",
        "TN, FP, FN, TP = cm.ravel()\n",
        "TPR = TP / (TP + FN) if (TP + FN) != 0 else 0\n",
        "TNR = TN / (TN + FP) if (TN + FP) != 0 else 0\n",
        "FPR = FP / (FP + TN) if (FP + TN) != 0 else 0\n",
        "FNR = FN / (FN + TP) if (FN + TP) != 0 else 0\n",
        "\n",
        "print(f\"\\nTPR (Recall for smokers): {TPR:.4f}\")\n",
        "print(f\"TNR (Recall for non-smokers): {TNR:.4f}\")\n",
        "print(f\"FPR: {FPR:.4f}\")\n",
        "print(f\"FNR: {FNR:.4f}\")\n",
        "\n",
        "print(\"\\nClassification Report:\")\n",
        "print(classification_report(y_test_flat, y_pred_flat, target_names=[\"Non-Smoker\", \"Smoker\"]))\n"
      ],
      "metadata": {
        "colab": {
          "base_uri": "https://localhost:8080/"
        },
        "id": "cjrigdFyL5Ls",
        "outputId": "079df3b3-f5a9-4367-a0b7-5eaeaaadbcb9"
      },
      "execution_count": null,
      "outputs": [
        {
          "output_type": "stream",
          "name": "stdout",
          "text": [
            "\n",
            "Confusion Matrix:\n",
            "[[196  14]\n",
            " [  0  28]]\n",
            "\n",
            "TPR (Recall for smokers): 1.0000\n",
            "TNR (Recall for non-smokers): 0.9333\n",
            "FPR: 0.0667\n",
            "FNR: 0.0000\n",
            "\n",
            "Classification Report:\n",
            "              precision    recall  f1-score   support\n",
            "\n",
            "  Non-Smoker       1.00      0.93      0.97       210\n",
            "      Smoker       0.67      1.00      0.80        28\n",
            "\n",
            "    accuracy                           0.94       238\n",
            "   macro avg       0.83      0.97      0.88       238\n",
            "weighted avg       0.96      0.94      0.95       238\n",
            "\n"
          ]
        }
      ]
    },
    {
      "cell_type": "markdown",
      "source": [
        "*Fully vectorized version*"
      ],
      "metadata": {
        "id": "3xdiCWmASqfA"
      }
    },
    {
      "cell_type": "code",
      "source": [
        "def Gradient_descent_logistic_weighted_vectorized(x, y, learning_rate, nb_iterations,initial_a0, initial_a1):\n",
        "    n = x.shape[0]\n",
        "    a0 = 0\n",
        "    a1 = np.zeros((x.shape[1], 1))\n",
        "\n",
        "    #Compute class weights\n",
        "    n_positive = np.sum(y == 1)\n",
        "    n_negative = np.sum(y == 0)\n",
        "    w_pos = n / (2 * n_positive)\n",
        "    w_neg = n / (2 * n_negative)\n",
        "\n",
        "    y = y.reshape(-1, 1)\n",
        "\n",
        "    for j in range(nb_iterations):\n",
        "        z = np.dot(x, a1) + a0\n",
        "        y_pred = 1 / (1 + np.exp(-z))\n",
        "\n",
        "        error = y - y_pred\n",
        "        weights = np.where(y == 1, w_pos, w_neg)\n",
        "        weighted_error = weights * error\n",
        "\n",
        "        a0_der = -np.sum(weighted_error) / n\n",
        "        a1_der = -np.dot(x.T, weighted_error) / n\n",
        "\n",
        "        a0 -= learning_rate * a0_der\n",
        "        a1 -= learning_rate * a1_der\n",
        "\n",
        "    return a0, a1\n"
      ],
      "metadata": {
        "id": "KQpOsLh2Stru"
      },
      "execution_count": null,
      "outputs": []
    },
    {
      "cell_type": "code",
      "source": [
        "#Model training\n",
        "#Initialize parameters\n",
        "initial_a0 = 0\n",
        "initial_a1 = np.zeros((x_train.shape[1], 1))\n",
        "learning_rate = 0.1\n",
        "iterations = 1000\n",
        "\n",
        "#Fit model\n",
        "a0, a1 = Gradient_descent_logistic_weighted_vectorized(x_train, y_train, learning_rate, iterations, initial_a0, initial_a1)\n"
      ],
      "metadata": {
        "id": "hg3xAtXpSyfL"
      },
      "execution_count": null,
      "outputs": []
    },
    {
      "cell_type": "code",
      "source": [
        "#Predict and format output\n",
        "y_pred_probs = sigmoid(x_test.dot(a1) + a0)\n",
        "y_pred = (y_pred_probs >= 0.5).astype(int).flatten()"
      ],
      "metadata": {
        "id": "XVi20pOFTSyG"
      },
      "execution_count": null,
      "outputs": []
    },
    {
      "cell_type": "code",
      "source": [
        "#Print the learned equation\n",
        "feature_names = X_df.columns.tolist()\n",
        "print(\"Logistic Regression Equation:\\n\")\n",
        "equation = f\"sigmoid({a0:.4f}\"\n",
        "for i, coef in enumerate(a1[:len(feature_names)]):\n",
        "    equation += f\" + ({coef[0]:.4f} * {feature_names[i]})\"\n",
        "equation += \")\"\n",
        "print(equation)"
      ],
      "metadata": {
        "colab": {
          "base_uri": "https://localhost:8080/"
        },
        "id": "wBawaJsVTV6Q",
        "outputId": "631c6ecb-2581-42b4-bdc8-75e0fca0d7c5"
      },
      "execution_count": null,
      "outputs": [
        {
          "output_type": "stream",
          "name": "stdout",
          "text": [
            "Logistic Regression Equation:\n",
            "\n",
            "sigmoid(-2.8027 + (-1.3160 * age) + (-0.1210 * sex) + (-1.3105 * bmi) + (-0.2346 * children) + (2.7891 * charges))\n"
          ]
        }
      ]
    },
    {
      "cell_type": "code",
      "source": [
        "#Flatten\n",
        "y_test_flat = y_test.flatten()\n",
        "y_pred_flat = y_pred.flatten()"
      ],
      "metadata": {
        "id": "DurlxTdqTbQ3"
      },
      "execution_count": null,
      "outputs": []
    },
    {
      "cell_type": "code",
      "source": [
        "#model evaluation metrics\n",
        "from sklearn.metrics import accuracy_score, precision_score, recall_score, f1_score, confusion_matrix, classification_report\n",
        "#Basic metrics\n",
        "\n",
        "print(\"Accuracy:\", accuracy_score(y_test_flat, y_pred_flat))\n",
        "print(\"Precision:\", precision_score(y_test_flat, y_pred_flat))\n",
        "print(\"Recall:\", recall_score(y_test_flat, y_pred_flat))\n",
        "print(\"F1 Score:\", f1_score(y_test_flat, y_pred_flat))"
      ],
      "metadata": {
        "colab": {
          "base_uri": "https://localhost:8080/"
        },
        "id": "hvTCQntwTeI7",
        "outputId": "5f05b186-eb70-4230-cd87-d440ce83f56f"
      },
      "execution_count": null,
      "outputs": [
        {
          "output_type": "stream",
          "name": "stdout",
          "text": [
            "Accuracy: 0.9411764705882353\n",
            "Precision: 0.6666666666666666\n",
            "Recall: 1.0\n",
            "F1 Score: 0.8\n"
          ]
        }
      ]
    },
    {
      "cell_type": "code",
      "source": [
        "#Confusion Matrix and other metrics\n",
        "cm = confusion_matrix(y_test_flat, y_pred_flat)\n",
        "print(\"\\nConfusion Matrix:\")\n",
        "print(cm)\n",
        "\n",
        "TN, FP, FN, TP = cm.ravel()\n",
        "TPR = TP / (TP + FN) if (TP + FN) != 0 else 0\n",
        "TNR = TN / (TN + FP) if (TN + FP) != 0 else 0\n",
        "FPR = FP / (FP + TN) if (FP + TN) != 0 else 0\n",
        "FNR = FN / (FN + TP) if (FN + TP) != 0 else 0\n",
        "\n",
        "print(f\"\\nTPR (Recall for smokers): {TPR:.4f}\")\n",
        "print(f\"TNR (Recall for non-smokers): {TNR:.4f}\")\n",
        "print(f\"FPR: {FPR:.4f}\")\n",
        "print(f\"FNR: {FNR:.4f}\")\n",
        "\n",
        "print(\"\\nClassification Report:\")\n",
        "print(classification_report(y_test_flat, y_pred_flat, target_names=[\"Non-Smoker\", \"Smoker\"]))\n"
      ],
      "metadata": {
        "colab": {
          "base_uri": "https://localhost:8080/"
        },
        "id": "FOp1480ETlq2",
        "outputId": "af2f5d5a-6bf9-44a8-cd68-aae679dc7378"
      },
      "execution_count": null,
      "outputs": [
        {
          "output_type": "stream",
          "name": "stdout",
          "text": [
            "\n",
            "Confusion Matrix:\n",
            "[[196  14]\n",
            " [  0  28]]\n",
            "\n",
            "TPR (Recall for smokers): 1.0000\n",
            "TNR (Recall for non-smokers): 0.9333\n",
            "FPR: 0.0667\n",
            "FNR: 0.0000\n",
            "\n",
            "Classification Report:\n",
            "              precision    recall  f1-score   support\n",
            "\n",
            "  Non-Smoker       1.00      0.93      0.97       210\n",
            "      Smoker       0.67      1.00      0.80        28\n",
            "\n",
            "    accuracy                           0.94       238\n",
            "   macro avg       0.83      0.97      0.88       238\n",
            "weighted avg       0.96      0.94      0.95       238\n",
            "\n"
          ]
        }
      ]
    },
    {
      "cell_type": "markdown",
      "source": [
        "The model achieved 94% accuracy, with 100% recall for smokers and 93.3% recall for non-smokers.\n",
        "\n",
        "Precision for smokers is 67%, leading to a strong f1-score of 0.80 despite the class imbalance.\n",
        "\n",
        "The low false positive rate (6.7%) and zero false negatives indicate a well-balanced and reliable classifier."
      ],
      "metadata": {
        "id": "aBkKzwGfMIzE"
      }
    },
    {
      "cell_type": "markdown",
      "source": [
        "#Version 2- Using the scikit-learn’s model"
      ],
      "metadata": {
        "id": "YlNwudesOL2t"
      }
    },
    {
      "cell_type": "markdown",
      "source": [
        "Prepare Features & Target"
      ],
      "metadata": {
        "id": "0aM_9j0ypYd2"
      }
    },
    {
      "cell_type": "code",
      "source": [
        "from sklearn.preprocessing import StandardScaler\n",
        "from sklearn.model_selection import train_test_split\n",
        "\n",
        "# Drop target and unused column to get features\n",
        "X_df = data_classification.drop(columns=['smoker'])  #features only\n",
        "X = X_df.values\n",
        "\n",
        "#Target variable\n",
        "y = data_classification['smoker'].values.astype(int)"
      ],
      "metadata": {
        "id": "BrkKods93zOB"
      },
      "execution_count": null,
      "outputs": []
    },
    {
      "cell_type": "markdown",
      "source": [
        "Split Data and Scale Features"
      ],
      "metadata": {
        "id": "z1JqX6nq35r7"
      }
    },
    {
      "cell_type": "code",
      "source": [
        "#Split the raw features and target\n",
        "X_train_raw, X_test_raw, y_train, y_test = train_test_split(X, y, test_size=0.2, random_state=42)\n",
        "\n",
        "#Scale features using StandardScaler\n",
        "scaler = StandardScaler()\n",
        "x_train = scaler.fit_transform(X_train_raw)\n",
        "x_test = scaler.transform(X_test_raw)"
      ],
      "metadata": {
        "id": "HRAixA4936HD"
      },
      "execution_count": null,
      "outputs": []
    },
    {
      "cell_type": "markdown",
      "source": [
        "Train Logistic Regression Model"
      ],
      "metadata": {
        "id": "716ETceb4CFZ"
      }
    },
    {
      "cell_type": "code",
      "source": [
        "from sklearn.linear_model import LogisticRegression\n",
        "\n",
        "#Handle class imbalance with class_weight='balanced'\n",
        "log_reg = LogisticRegression(class_weight='balanced')\n",
        "log_reg.fit(x_train, y_train)\n",
        "y_pred = log_reg.predict(x_test) #prediction"
      ],
      "metadata": {
        "id": "jKcBgmH-4B2E"
      },
      "execution_count": null,
      "outputs": []
    },
    {
      "cell_type": "markdown",
      "source": [
        "Model Evaluation"
      ],
      "metadata": {
        "id": "uj3s4mop4KF-"
      }
    },
    {
      "cell_type": "code",
      "source": [
        "from sklearn.metrics import accuracy_score, precision_score, recall_score, f1_score, confusion_matrix, classification_report\n",
        "\n",
        "#Basic metrics\n",
        "print(\"Accuracy:\", accuracy_score(y_test, y_pred))\n",
        "print(\"Precision:\", precision_score(y_test, y_pred))\n",
        "print(\"Recall:\", recall_score(y_test, y_pred))\n",
        "print(\"F1 Score:\", f1_score(y_test, y_pred))"
      ],
      "metadata": {
        "colab": {
          "base_uri": "https://localhost:8080/"
        },
        "id": "lwOsIYft4MfY",
        "outputId": "526c6899-5109-42ae-fc7d-648eba4dbef0"
      },
      "execution_count": null,
      "outputs": [
        {
          "output_type": "stream",
          "name": "stdout",
          "text": [
            "Accuracy: 0.9453781512605042\n",
            "Precision: 0.6829268292682927\n",
            "Recall: 1.0\n",
            "F1 Score: 0.8115942028985508\n"
          ]
        }
      ]
    },
    {
      "cell_type": "markdown",
      "source": [
        "Confusion matrix and other metrics"
      ],
      "metadata": {
        "id": "mAtWWIIe4T9c"
      }
    },
    {
      "cell_type": "code",
      "source": [
        "#Confusion Matrix\n",
        "cm = confusion_matrix(y_test, y_pred)\n",
        "print(\"\\nConfusion Matrix:\")\n",
        "print(cm)\n",
        "\n",
        "#TPR, TNR, FPR, FNR\n",
        "TN, FP, FN, TP = cm.ravel()\n",
        "TPR = TP / (TP + FN)\n",
        "TNR = TN / (TN + FP)\n",
        "FPR = FP / (FP + TN)\n",
        "FNR = FN / (FN + TP)\n",
        "\n",
        "print(f\"\\nTPR (Recall for smokers): {TPR:.4f}\")\n",
        "print(f\"TNR (Recall for non-smokers): {TNR:.4f}\")\n",
        "print(f\"FPR: {FPR:.4f}\")\n",
        "print(f\"FNR: {FNR:.4f}\")\n",
        "\n",
        "#Classification report\n",
        "print(\"\\nClassification Report:\")\n",
        "print(classification_report(y_test, y_pred, target_names=[\"Non-Smoker\", \"Smoker\"]))"
      ],
      "metadata": {
        "colab": {
          "base_uri": "https://localhost:8080/"
        },
        "id": "9DNdVQkG4PBF",
        "outputId": "66c6107c-ce06-43e2-8149-fdc9cbb4170d"
      },
      "execution_count": null,
      "outputs": [
        {
          "output_type": "stream",
          "name": "stdout",
          "text": [
            "\n",
            "Confusion Matrix:\n",
            "[[197  13]\n",
            " [  0  28]]\n",
            "\n",
            "TPR (Recall for smokers): 1.0000\n",
            "TNR (Recall for non-smokers): 0.9381\n",
            "FPR: 0.0619\n",
            "FNR: 0.0000\n",
            "\n",
            "Classification Report:\n",
            "              precision    recall  f1-score   support\n",
            "\n",
            "  Non-Smoker       1.00      0.94      0.97       210\n",
            "      Smoker       0.68      1.00      0.81        28\n",
            "\n",
            "    accuracy                           0.95       238\n",
            "   macro avg       0.84      0.97      0.89       238\n",
            "weighted avg       0.96      0.95      0.95       238\n",
            "\n"
          ]
        }
      ]
    },
    {
      "cell_type": "markdown",
      "source": [
        "## - Reflection Part II-\n",
        "\n",
        "Both the gradient descent and scikit-learn models achieved identical performance, effectively capturing patterns to detect smokers with 100% recall, 68% precision, 95% accuracy, and an f1-score of 0.81.\n",
        "\n",
        "This indicates the models successfully identified all smokers while maintaining a strong balance between precision and recall.\n",
        "\n",
        "While the gradient descent approach offers valuable insights, scikit-learn remains more efficient, easier, faster, and scalable for real-world applications."
      ],
      "metadata": {
        "id": "qB0vKfOhRceE"
      }
    }
  ]
}
